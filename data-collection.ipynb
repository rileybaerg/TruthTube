{
 "cells": [
  {
   "cell_type": "markdown",
   "metadata": {},
   "source": [
    "# Data Collection\n",
    "\n",
    "This is our actual file for data collection. "
   ]
  },
  {
   "cell_type": "code",
   "execution_count": 1,
   "metadata": {},
   "outputs": [],
   "source": [
    "from googleapiclient.discovery import build\n",
    "import pandas as pd"
   ]
  },
  {
   "cell_type": "code",
   "execution_count": 2,
   "metadata": {},
   "outputs": [],
   "source": [
    "api_key = \"\" #REMEMBER TO REMOVE BEFORE UPLOADING\n",
    "api_service_name = \"youtube\"\n",
    "api_version = \"v3\"\n",
    "youtube = build(\n",
    "    api_service_name, api_version, developerKey=api_key\n",
    ")"
   ]
  },
  {
   "cell_type": "markdown",
   "metadata": {},
   "source": [
    "### Get channel Data"
   ]
  },
  {
   "cell_type": "code",
   "execution_count": 5,
   "metadata": {},
   "outputs": [],
   "source": [
    "def get_channel_info(userid):\n",
    "    request = youtube.channels().list(\n",
    "        part=\"snippet,contentDetails,statistics\",\n",
    "        id=userid\n",
    "    )\n",
    "    response = request.execute()\n",
    "    item = response['items'][0]\n",
    "    # Your solution\n",
    "    return {\n",
    "        'channelName': item['snippet']['title'],\n",
    "        'channelStartDate': item['snippet']['publishedAt'],\n",
    "        'subscribers': item['statistics']['subscriberCount'],\n",
    "        'viewCount': item['statistics']['viewCount'],\n",
    "        'videoCount': item['statistics']['videoCount'],\n",
    "        'uploadsPlaylist': item['contentDetails']['relatedPlaylists']['uploads']\n",
    "    }\n",
    "def get_video_data(video_ids):\n",
    "    video_data = []\n",
    "    for i in range (0, len(video_ids), 50): # performs requests in batches to avoid rate-limiting\n",
    "        request = youtube.videos().list(\n",
    "            part='snippet,contentDetails,statistics',\n",
    "            id=','.join(video_ids[i:i+50])\n",
    "        )\n",
    "        response = request.execute() #record response\n",
    "\n",
    "        for item in response['items']:\n",
    "            relevant_stats = {\n",
    "                'snippet': ['title', 'description', 'tags', 'publishedAt'], \n",
    "                'statistics': ['viewCount', 'likeCount', 'commentCount'], \n",
    "                'contentDetails': ['duration', 'definition', 'caption']\n",
    "            } #collects information that we care about... check documentation to choose information\n",
    "\n",
    "            video_info = {}\n",
    "            video_info['video_id'] = item['id']\n",
    "\n",
    "            for cat in relevant_stats.keys():\n",
    "                for stat in relevant_stats[cat]:\n",
    "                    try:\n",
    "                        video_info[stat] = item[cat][stat]\n",
    "                    except:\n",
    "                        video_info[stat] = None\n",
    "\n",
    "            video_data.append(video_info)\n",
    "    video_data\n",
    "    return pd.DataFrame(video_data)\n",
    "\n",
    "# Define any helper functions here\n",
    "def get_video_ids(playlistID):\n",
    "    request = youtube.playlistItems().list(\n",
    "        part='snippet,contentDetails',\n",
    "        playlistId = playlistID,\n",
    "        maxResults=50\n",
    "    )\n",
    "\n",
    "    response = request.execute()\n",
    "\n",
    "    video_ids = []\n",
    "    video_ids.extend([item['contentDetails']['videoId'] for item in response['items']])\n",
    "\n",
    "    next_page = response.get('nextPageToken')\n",
    "\n",
    "    while next_page is not None: \n",
    "        request = youtube.playlistItems().list(\n",
    "            part='snippet,contentDetails',\n",
    "            playlistId = playlistID,\n",
    "            maxResults = 50,\n",
    "            pageToken = next_page \n",
    "        )\n",
    "        response = request.execute()\n",
    "\n",
    "        video_ids.extend([item['contentDetails']['videoId'] for item in response['items']])\n",
    "        next_page = response.get('nextPageToken')\n",
    "\n",
    "    return video_ids\n",
    "\n",
    "def get_channel_data(userid):\n",
    "    channel_info = get_channel_info(userid)\n",
    "    shorts_playlistid = \"UUSH\" + userid[2:]\n",
    "\n",
    "    video_ids = get_video_ids(shorts_playlistid)\n",
    "    upload_data = get_video_data(video_ids)\n",
    "\n",
    "    return channel_info, upload_data"
   ]
  },
  {
   "cell_type": "code",
   "execution_count": 9,
   "metadata": {},
   "outputs": [],
   "source": [
    "# Misinformative channel ids\n",
    "mis1_id = \"UC3w193M5tYPJqF0Hi-7U-2g\" #dr berg\n",
    "mis2_id = \"UC5apkKkeZQXRSDbqSalG8CQ\" #shawn baker\n",
    "mis3_id = \"UCgBg0LcHfnJDPmFTTf677Pw\" #paul saladino"
   ]
  },
  {
   "cell_type": "code",
   "execution_count": 10,
   "metadata": {},
   "outputs": [],
   "source": [
    "# Informative channel ids\n",
    "inf1_id = \"UCcffZfMDLakH-hs89uSKxQg\" #nutrition by kylie\n",
    "inf2_id = \"UCKLz-9xkpPNjK26PqbjHn7Q\" #abbey sharp"
   ]
  },
  {
   "cell_type": "code",
   "execution_count": 13,
   "metadata": {},
   "outputs": [],
   "source": [
    "mis1_info, mis1_uploads = get_channel_data(mis1_id)\n",
    "mis2_info, mis2_uploads = get_channel_data(mis2_id)\n",
    "mis3_info, mis3_uploads = get_channel_data(mis3_id)"
   ]
  },
  {
   "cell_type": "code",
   "execution_count": 14,
   "metadata": {},
   "outputs": [],
   "source": [
    "inf1_info, inf1_uploads = get_channel_data(inf1_id)\n",
    "inf2_info, inf2_uploads = get_channel_data(inf2_id)"
   ]
  },
  {
   "cell_type": "markdown",
   "metadata": {},
   "source": [
    "### Get Comments"
   ]
  },
  {
   "cell_type": "markdown",
   "metadata": {},
   "source": []
  }
 ],
 "metadata": {
  "kernelspec": {
   "display_name": "base",
   "language": "python",
   "name": "python3"
  },
  "language_info": {
   "codemirror_mode": {
    "name": "ipython",
    "version": 3
   },
   "file_extension": ".py",
   "mimetype": "text/x-python",
   "name": "python",
   "nbconvert_exporter": "python",
   "pygments_lexer": "ipython3",
   "version": "3.11.7"
  },
  "orig_nbformat": 4
 },
 "nbformat": 4,
 "nbformat_minor": 2
}
