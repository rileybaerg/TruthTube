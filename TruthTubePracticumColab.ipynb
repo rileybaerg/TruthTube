{
  "nbformat": 4,
  "nbformat_minor": 0,
  "metadata": {
    "colab": {
      "provenance": [],
      "include_colab_link": true
    },
    "kernelspec": {
      "name": "python3",
      "display_name": "Python 3"
    },
    "language_info": {
      "name": "python"
    }
  },
  "cells": [
    {
      "cell_type": "markdown",
      "metadata": {
        "id": "view-in-github",
        "colab_type": "text"
      },
      "source": [
        "<a href=\"https://colab.research.google.com/github/rileybaerg/TruthTube/blob/main/TruthTubePracticumColab.ipynb\" target=\"_parent\"><img src=\"https://colab.research.google.com/assets/colab-badge.svg\" alt=\"Open In Colab\"/></a>"
      ]
    },
    {
      "cell_type": "markdown",
      "source": [
        "# TruthTube Project Practicum\n",
        "Riley, Jiyoon, Keyan, Mustafa\n",
        "\n",
        "\n",
        "\n",
        "\n",
        "\n",
        "\n",
        "\n"
      ],
      "metadata": {
        "id": "XCoM7T-guu3q"
      }
    },
    {
      "cell_type": "markdown",
      "source": [
        "## Problem\n",
        "\n",
        "We are concerned with the spread of health misinformation on YouTube, especially within YouTube shorts where the duration of a video is less than 60 seconds and spreads at a fast pace. We wish to examine how misinformative videos influence viewers, particularly focusing on the topic of Nutrition.\n",
        "\n",
        "RQ: How does the interaction between the content of a nutritional health video impact its popularity and uptake of content by viewers when it is informative versus misinformative?"
      ],
      "metadata": {
        "id": "ZJ6T9ZBQXMM9"
      }
    },
    {
      "cell_type": "markdown",
      "source": [
        "## Method\n",
        "\n",
        "We decide to analyze comments from YouTube Shorts videos surrounding nutritional health topics. Text data from comments will help us understand the interactions between a video and its viewers. We select misinformative health channels and informative health channels. We select 3 YouTube channels for each category, processing data from a total of 6 channels."
      ],
      "metadata": {
        "id": "QxeIfZzdm_oB"
      }
    },
    {
      "cell_type": "markdown",
      "source": [
        "### Criteria\n",
        "In order to define informative health content, we follow\n",
        "https://www.ncbi.nlm.nih.gov/books/NBK225306/, where they indicate that \"the registered dietitian is the single identifiable group of healthcare professionals with the standardized education, clinical training, continuing education, and national credentialing requirements necessary to provide nutrition therapy.\"\n",
        "\n",
        "We noticed that the channel owner YouTube Shorts regarding nutritional health. Therefore, we set the criteria of a channel owner as having the qualifications of:\n",
        "\n",
        "* A Registered Dietitian (RD or RDN)\n",
        "* A person whose claims doesn't go against current nutrition guidelines provided by websites listed in https://openoregon.pressbooks.pub/nutritionscience/chapter/2e-who-can-you-trust/\n",
        "* Someone who does not push an agenda or product available after purpose (those leveraging their health education into a health-business related career); promoting self-interests\n"
      ],
      "metadata": {
        "id": "MwE7kr8hWAHu"
      }
    },
    {
      "cell_type": "markdown",
      "source": [
        "## Quantiative\n",
        "### Channel Information and Uploads"
      ],
      "metadata": {
        "id": "gO14Wfl7WjOX"
      }
    },
    {
      "cell_type": "code",
      "source": [
        "from googleapiclient.discovery import build\n",
        "import pandas as pd\n",
        "\n",
        "api_key = \"\"\n",
        "api_service_name = \"youtube\"\n",
        "api_version = \"v3\"\n",
        "youtube = build(\n",
        "    api_service_name, api_version, developerKey=api_key\n",
        ")"
      ],
      "metadata": {
        "id": "uuH8EJVOKNL3"
      },
      "execution_count": null,
      "outputs": []
    },
    {
      "cell_type": "markdown",
      "source": [
        "Using the YouTube Data API, we first collect summary information for YouTube channels. We use the YouTube channel's ID to identify each YouTube channel."
      ],
      "metadata": {
        "id": "Vsf41l3_iTul"
      }
    },
    {
      "cell_type": "code",
      "source": [
        "def get_channel_info(userid):\n",
        "    request = youtube.channels().list(\n",
        "        part=\"snippet,contentDetails,statistics\",\n",
        "        id=userid\n",
        "    )\n",
        "    response = request.execute()\n",
        "    item = response['items'][0]\n",
        "    # Your solution\n",
        "    return {\n",
        "        'channelName': item['snippet']['title'],\n",
        "        'channelStartDate': item['snippet']['publishedAt'],\n",
        "        'subscribers': item['statistics']['subscriberCount'],\n",
        "        'viewCount': item['statistics']['viewCount'],\n",
        "        'videoCount': item['statistics']['videoCount'],\n",
        "        'uploadsPlaylist': item['contentDetails']['relatedPlaylists']['uploads']\n",
        "    }\n",
        "def get_video_data(video_ids):\n",
        "    video_data = []\n",
        "    for i in range (0, len(video_ids), 50): # performs requests in batches to avoid rate-limiting\n",
        "        request = youtube.videos().list(\n",
        "            part='snippet,contentDetails,statistics',\n",
        "            id=','.join(video_ids[i:i+50])\n",
        "        )\n",
        "        response = request.execute() #record response\n",
        "\n",
        "        for item in response['items']:\n",
        "            relevant_stats = {\n",
        "                'snippet': ['title', 'description', 'tags', 'publishedAt'],\n",
        "                'statistics': ['viewCount', 'likeCount', 'commentCount'],\n",
        "                'contentDetails': ['duration', 'definition', 'caption']\n",
        "            } #collects information that we care about... check documentation to choose information\n",
        "\n",
        "            video_info = {}\n",
        "            video_info['video_id'] = item['id']\n",
        "\n",
        "            for cat in relevant_stats.keys():\n",
        "                for stat in relevant_stats[cat]:\n",
        "                    try:\n",
        "                        video_info[stat] = item[cat][stat]\n",
        "                    except:\n",
        "                        video_info[stat] = None\n",
        "\n",
        "            video_data.append(video_info)\n",
        "    video_data\n",
        "    return pd.DataFrame(video_data)\n",
        "\n",
        "# Define any helper functions here\n",
        "def get_video_ids(playlistID):\n",
        "    request = youtube.playlistItems().list(\n",
        "        part='snippet,contentDetails',\n",
        "        playlistId = playlistID,\n",
        "        maxResults=50\n",
        "    )\n",
        "\n",
        "    response = request.execute()\n",
        "\n",
        "    video_ids = []\n",
        "    video_ids.extend([item['contentDetails']['videoId'] for item in response['items']])\n",
        "\n",
        "    next_page = response.get('nextPageToken')\n",
        "\n",
        "    while next_page is not None:\n",
        "        request = youtube.playlistItems().list(\n",
        "            part='snippet,contentDetails',\n",
        "            playlistId = playlistID,\n",
        "            maxResults = 50,\n",
        "            pageToken = next_page\n",
        "        )\n",
        "        response = request.execute()\n",
        "\n",
        "        video_ids.extend([item['contentDetails']['videoId'] for item in response['items']])\n",
        "        next_page = response.get('nextPageToken')\n",
        "\n",
        "    return video_ids\n",
        "\n",
        "def get_channel_data(userid):\n",
        "    channel_info = get_channel_info(userid)\n",
        "    shorts_playlistid = \"UUSH\" + userid[2:]\n",
        "\n",
        "    video_ids = get_video_ids(shorts_playlistid)\n",
        "    upload_data = get_video_data(video_ids)\n",
        "    upload_data.insert(0, 'channelName', channel_info['channelName'])\n",
        "\n",
        "    return channel_info, upload_data"
      ],
      "metadata": {
        "id": "HOlrFnmGWi2V"
      },
      "execution_count": null,
      "outputs": []
    },
    {
      "cell_type": "markdown",
      "source": [
        "Based on the criteria, we identify misinformative and informative youtube channels."
      ],
      "metadata": {
        "id": "n07RpCcxmOoW"
      }
    },
    {
      "cell_type": "code",
      "source": [
        "# Misinformative youtube channels\n",
        "mis1_id = \"UC3w193M5tYPJqF0Hi-7U-2g\"\n",
        "mis2_id = \"UC5apkKkeZQXRSDbqSalG8CQ\"\n",
        "mis3_id = \"UCgBg0LcHfnJDPmFTTf677Pw\""
      ],
      "metadata": {
        "id": "goLPwOlXKhEQ"
      },
      "execution_count": null,
      "outputs": []
    },
    {
      "cell_type": "code",
      "source": [
        "# Informative channel ids\n",
        "inf1_id = \"UCcffZfMDLakH-hs89uSKxQg\"\n",
        "inf2_id = \"UCKLz-9xkpPNjK26PqbjHn7Q\""
      ],
      "metadata": {
        "id": "jt7uQFmnKxyl"
      },
      "execution_count": null,
      "outputs": []
    },
    {
      "cell_type": "markdown",
      "source": [
        "Then we pull data about these channels."
      ],
      "metadata": {
        "id": "zH-F_5T8rCVw"
      }
    },
    {
      "cell_type": "code",
      "source": [
        "mis1_info, mis1_uploads = get_channel_data(mis1_id)\n",
        "mis2_info, mis2_uploads = get_channel_data(mis2_id)\n",
        "mis3_info, mis3_uploads = get_channel_data(mis3_id)"
      ],
      "metadata": {
        "id": "POEF-FklIcIv"
      },
      "execution_count": null,
      "outputs": []
    },
    {
      "cell_type": "code",
      "source": [
        "inf1_info, inf1_uploads = get_channel_data(inf1_id)\n",
        "inf2_info, inf2_uploads = get_channel_data(inf2_id)"
      ],
      "metadata": {
        "id": "7HXVpTe0K576"
      },
      "execution_count": null,
      "outputs": []
    },
    {
      "cell_type": "markdown",
      "source": [
        "We add boolean values to each group, adding a column named is_informative. (informative videos: 1, misinformative videos: 0)"
      ],
      "metadata": {
        "id": "DgOmxoraSYrl"
      }
    },
    {
      "cell_type": "code",
      "source": [
        "mis1_uploads['is_informative'] = int(False)\n",
        "mis2_uploads['is_informative'] = int(False)\n",
        "mis3_uploads['is_informative'] = int(False)\n",
        "inf1_uploads['is_informative'] = int(True)\n",
        "inf2_uploads['is_informative'] = int(True)"
      ],
      "metadata": {
        "id": "GDBv8bEMSYLj"
      },
      "execution_count": null,
      "outputs": []
    },
    {
      "cell_type": "markdown",
      "source": [
        "We have 3 dataframes that contain upload information for each channel."
      ],
      "metadata": {
        "id": "_iFRfYp0TBRu"
      }
    },
    {
      "cell_type": "code",
      "source": [
        "misinfo_df = pd.concat([mis1_uploads, mis2_uploads, mis3_uploads], axis=0)\n",
        "info_df = pd.concat([inf1_uploads, inf2_uploads], axis=0)\n",
        "youtube_df = pd.concat([misinfo_df, info_df], axis=0)"
      ],
      "metadata": {
        "id": "Wa3J_JooS4c5"
      },
      "execution_count": null,
      "outputs": []
    },
    {
      "cell_type": "markdown",
      "source": [
        "####Analyzing channel general information"
      ],
      "metadata": {
        "id": "1EEN_-A3x_0R"
      }
    },
    {
      "cell_type": "markdown",
      "source": [
        "Calculate the average view count, like cout, and comment count of all channels to have a general idea of the size of the channel and its interactions."
      ],
      "metadata": {
        "id": "Wm0UMkev2oo7"
      }
    },
    {
      "cell_type": "code",
      "source": [
        "#check data type of the columns analyzing\n",
        "print(youtube_df.dtypes)"
      ],
      "metadata": {
        "id": "GW6vy8U91Qu8"
      },
      "execution_count": null,
      "outputs": []
    },
    {
      "cell_type": "code",
      "source": [
        "#convert data type from object to integer for analysis\n",
        "youtube_df['viewCount'] = pd.to_numeric(youtube_df['viewCount'], errors='coerce', downcast='integer')\n",
        "youtube_df['commentCount'] = pd.to_numeric(youtube_df['commentCount'], errors='coerce', downcast='integer')\n",
        "youtube_df['likeCount'] = pd.to_numeric(youtube_df['likeCount'], errors='coerce', downcast='integer')"
      ],
      "metadata": {
        "id": "gT2ngxv80n7b"
      },
      "execution_count": null,
      "outputs": []
    },
    {
      "cell_type": "code",
      "source": [
        "# Calculate average view count, comment count, and like count for each channel\n",
        "average_metrics = youtube_df.groupby('channelName').agg({\n",
        "    'viewCount': 'mean',\n",
        "    'commentCount': 'mean',\n",
        "    'likeCount': 'mean'\n",
        "}).reset_index()\n",
        "\n",
        "# Rename columns for clarity\n",
        "average_metrics.columns = ['Channel Name', 'Average View Count', 'Average Comment Count', 'Average Like Count']\n",
        "\n",
        "#change the avaerge number format to decimal\n",
        "pd.options.display.float_format = '{:.2f}'.format\n",
        "\n",
        "# Display the table with average metrics for each channel\n",
        "average_metrics"
      ],
      "metadata": {
        "colab": {
          "base_uri": "https://localhost:8080/",
          "height": 204
        },
        "id": "EqiqAIDox-yk",
        "outputId": "825dbd1b-f739-49b7-a27e-453b14644e69"
      },
      "execution_count": null,
      "outputs": [
        {
          "output_type": "execute_result",
          "data": {
            "text/plain": [
              "         Channel Name  Average View Count  Average Comment Count  \\\n",
              "0         Abbey Sharp           243408.07              243408.07   \n",
              "1    Dr. Eric Berg DC           247211.43              247211.43   \n",
              "2  Nutrition By Kylie          1989251.92             1989251.92   \n",
              "3    Paul Saladino MD           245349.88              245349.88   \n",
              "4      Shawn Baker MD            31794.53               31794.53   \n",
              "\n",
              "   Average Like Count  \n",
              "0           243408.07  \n",
              "1           247211.43  \n",
              "2          1989251.92  \n",
              "3           245349.88  \n",
              "4            31794.53  "
            ],
            "text/html": [
              "\n",
              "  <div id=\"df-9fda510b-04ef-48de-a976-0f13c43335b2\" class=\"colab-df-container\">\n",
              "    <div>\n",
              "<style scoped>\n",
              "    .dataframe tbody tr th:only-of-type {\n",
              "        vertical-align: middle;\n",
              "    }\n",
              "\n",
              "    .dataframe tbody tr th {\n",
              "        vertical-align: top;\n",
              "    }\n",
              "\n",
              "    .dataframe thead th {\n",
              "        text-align: right;\n",
              "    }\n",
              "</style>\n",
              "<table border=\"1\" class=\"dataframe\">\n",
              "  <thead>\n",
              "    <tr style=\"text-align: right;\">\n",
              "      <th></th>\n",
              "      <th>Channel Name</th>\n",
              "      <th>Average View Count</th>\n",
              "      <th>Average Comment Count</th>\n",
              "      <th>Average Like Count</th>\n",
              "    </tr>\n",
              "  </thead>\n",
              "  <tbody>\n",
              "    <tr>\n",
              "      <th>0</th>\n",
              "      <td>Abbey Sharp</td>\n",
              "      <td>243408.07</td>\n",
              "      <td>243408.07</td>\n",
              "      <td>243408.07</td>\n",
              "    </tr>\n",
              "    <tr>\n",
              "      <th>1</th>\n",
              "      <td>Dr. Eric Berg DC</td>\n",
              "      <td>247211.43</td>\n",
              "      <td>247211.43</td>\n",
              "      <td>247211.43</td>\n",
              "    </tr>\n",
              "    <tr>\n",
              "      <th>2</th>\n",
              "      <td>Nutrition By Kylie</td>\n",
              "      <td>1989251.92</td>\n",
              "      <td>1989251.92</td>\n",
              "      <td>1989251.92</td>\n",
              "    </tr>\n",
              "    <tr>\n",
              "      <th>3</th>\n",
              "      <td>Paul Saladino MD</td>\n",
              "      <td>245349.88</td>\n",
              "      <td>245349.88</td>\n",
              "      <td>245349.88</td>\n",
              "    </tr>\n",
              "    <tr>\n",
              "      <th>4</th>\n",
              "      <td>Shawn Baker MD</td>\n",
              "      <td>31794.53</td>\n",
              "      <td>31794.53</td>\n",
              "      <td>31794.53</td>\n",
              "    </tr>\n",
              "  </tbody>\n",
              "</table>\n",
              "</div>\n",
              "    <div class=\"colab-df-buttons\">\n",
              "\n",
              "  <div class=\"colab-df-container\">\n",
              "    <button class=\"colab-df-convert\" onclick=\"convertToInteractive('df-9fda510b-04ef-48de-a976-0f13c43335b2')\"\n",
              "            title=\"Convert this dataframe to an interactive table.\"\n",
              "            style=\"display:none;\">\n",
              "\n",
              "  <svg xmlns=\"http://www.w3.org/2000/svg\" height=\"24px\" viewBox=\"0 -960 960 960\">\n",
              "    <path d=\"M120-120v-720h720v720H120Zm60-500h600v-160H180v160Zm220 220h160v-160H400v160Zm0 220h160v-160H400v160ZM180-400h160v-160H180v160Zm440 0h160v-160H620v160ZM180-180h160v-160H180v160Zm440 0h160v-160H620v160Z\"/>\n",
              "  </svg>\n",
              "    </button>\n",
              "\n",
              "  <style>\n",
              "    .colab-df-container {\n",
              "      display:flex;\n",
              "      gap: 12px;\n",
              "    }\n",
              "\n",
              "    .colab-df-convert {\n",
              "      background-color: #E8F0FE;\n",
              "      border: none;\n",
              "      border-radius: 50%;\n",
              "      cursor: pointer;\n",
              "      display: none;\n",
              "      fill: #1967D2;\n",
              "      height: 32px;\n",
              "      padding: 0 0 0 0;\n",
              "      width: 32px;\n",
              "    }\n",
              "\n",
              "    .colab-df-convert:hover {\n",
              "      background-color: #E2EBFA;\n",
              "      box-shadow: 0px 1px 2px rgba(60, 64, 67, 0.3), 0px 1px 3px 1px rgba(60, 64, 67, 0.15);\n",
              "      fill: #174EA6;\n",
              "    }\n",
              "\n",
              "    .colab-df-buttons div {\n",
              "      margin-bottom: 4px;\n",
              "    }\n",
              "\n",
              "    [theme=dark] .colab-df-convert {\n",
              "      background-color: #3B4455;\n",
              "      fill: #D2E3FC;\n",
              "    }\n",
              "\n",
              "    [theme=dark] .colab-df-convert:hover {\n",
              "      background-color: #434B5C;\n",
              "      box-shadow: 0px 1px 3px 1px rgba(0, 0, 0, 0.15);\n",
              "      filter: drop-shadow(0px 1px 2px rgba(0, 0, 0, 0.3));\n",
              "      fill: #FFFFFF;\n",
              "    }\n",
              "  </style>\n",
              "\n",
              "    <script>\n",
              "      const buttonEl =\n",
              "        document.querySelector('#df-9fda510b-04ef-48de-a976-0f13c43335b2 button.colab-df-convert');\n",
              "      buttonEl.style.display =\n",
              "        google.colab.kernel.accessAllowed ? 'block' : 'none';\n",
              "\n",
              "      async function convertToInteractive(key) {\n",
              "        const element = document.querySelector('#df-9fda510b-04ef-48de-a976-0f13c43335b2');\n",
              "        const dataTable =\n",
              "          await google.colab.kernel.invokeFunction('convertToInteractive',\n",
              "                                                    [key], {});\n",
              "        if (!dataTable) return;\n",
              "\n",
              "        const docLinkHtml = 'Like what you see? Visit the ' +\n",
              "          '<a target=\"_blank\" href=https://colab.research.google.com/notebooks/data_table.ipynb>data table notebook</a>'\n",
              "          + ' to learn more about interactive tables.';\n",
              "        element.innerHTML = '';\n",
              "        dataTable['output_type'] = 'display_data';\n",
              "        await google.colab.output.renderOutput(dataTable, element);\n",
              "        const docLink = document.createElement('div');\n",
              "        docLink.innerHTML = docLinkHtml;\n",
              "        element.appendChild(docLink);\n",
              "      }\n",
              "    </script>\n",
              "  </div>\n",
              "\n",
              "\n",
              "<div id=\"df-8c6467ef-6e72-4881-95b1-297702d3aef7\">\n",
              "  <button class=\"colab-df-quickchart\" onclick=\"quickchart('df-8c6467ef-6e72-4881-95b1-297702d3aef7')\"\n",
              "            title=\"Suggest charts\"\n",
              "            style=\"display:none;\">\n",
              "\n",
              "<svg xmlns=\"http://www.w3.org/2000/svg\" height=\"24px\"viewBox=\"0 0 24 24\"\n",
              "     width=\"24px\">\n",
              "    <g>\n",
              "        <path d=\"M19 3H5c-1.1 0-2 .9-2 2v14c0 1.1.9 2 2 2h14c1.1 0 2-.9 2-2V5c0-1.1-.9-2-2-2zM9 17H7v-7h2v7zm4 0h-2V7h2v10zm4 0h-2v-4h2v4z\"/>\n",
              "    </g>\n",
              "</svg>\n",
              "  </button>\n",
              "\n",
              "<style>\n",
              "  .colab-df-quickchart {\n",
              "      --bg-color: #E8F0FE;\n",
              "      --fill-color: #1967D2;\n",
              "      --hover-bg-color: #E2EBFA;\n",
              "      --hover-fill-color: #174EA6;\n",
              "      --disabled-fill-color: #AAA;\n",
              "      --disabled-bg-color: #DDD;\n",
              "  }\n",
              "\n",
              "  [theme=dark] .colab-df-quickchart {\n",
              "      --bg-color: #3B4455;\n",
              "      --fill-color: #D2E3FC;\n",
              "      --hover-bg-color: #434B5C;\n",
              "      --hover-fill-color: #FFFFFF;\n",
              "      --disabled-bg-color: #3B4455;\n",
              "      --disabled-fill-color: #666;\n",
              "  }\n",
              "\n",
              "  .colab-df-quickchart {\n",
              "    background-color: var(--bg-color);\n",
              "    border: none;\n",
              "    border-radius: 50%;\n",
              "    cursor: pointer;\n",
              "    display: none;\n",
              "    fill: var(--fill-color);\n",
              "    height: 32px;\n",
              "    padding: 0;\n",
              "    width: 32px;\n",
              "  }\n",
              "\n",
              "  .colab-df-quickchart:hover {\n",
              "    background-color: var(--hover-bg-color);\n",
              "    box-shadow: 0 1px 2px rgba(60, 64, 67, 0.3), 0 1px 3px 1px rgba(60, 64, 67, 0.15);\n",
              "    fill: var(--button-hover-fill-color);\n",
              "  }\n",
              "\n",
              "  .colab-df-quickchart-complete:disabled,\n",
              "  .colab-df-quickchart-complete:disabled:hover {\n",
              "    background-color: var(--disabled-bg-color);\n",
              "    fill: var(--disabled-fill-color);\n",
              "    box-shadow: none;\n",
              "  }\n",
              "\n",
              "  .colab-df-spinner {\n",
              "    border: 2px solid var(--fill-color);\n",
              "    border-color: transparent;\n",
              "    border-bottom-color: var(--fill-color);\n",
              "    animation:\n",
              "      spin 1s steps(1) infinite;\n",
              "  }\n",
              "\n",
              "  @keyframes spin {\n",
              "    0% {\n",
              "      border-color: transparent;\n",
              "      border-bottom-color: var(--fill-color);\n",
              "      border-left-color: var(--fill-color);\n",
              "    }\n",
              "    20% {\n",
              "      border-color: transparent;\n",
              "      border-left-color: var(--fill-color);\n",
              "      border-top-color: var(--fill-color);\n",
              "    }\n",
              "    30% {\n",
              "      border-color: transparent;\n",
              "      border-left-color: var(--fill-color);\n",
              "      border-top-color: var(--fill-color);\n",
              "      border-right-color: var(--fill-color);\n",
              "    }\n",
              "    40% {\n",
              "      border-color: transparent;\n",
              "      border-right-color: var(--fill-color);\n",
              "      border-top-color: var(--fill-color);\n",
              "    }\n",
              "    60% {\n",
              "      border-color: transparent;\n",
              "      border-right-color: var(--fill-color);\n",
              "    }\n",
              "    80% {\n",
              "      border-color: transparent;\n",
              "      border-right-color: var(--fill-color);\n",
              "      border-bottom-color: var(--fill-color);\n",
              "    }\n",
              "    90% {\n",
              "      border-color: transparent;\n",
              "      border-bottom-color: var(--fill-color);\n",
              "    }\n",
              "  }\n",
              "</style>\n",
              "\n",
              "  <script>\n",
              "    async function quickchart(key) {\n",
              "      const quickchartButtonEl =\n",
              "        document.querySelector('#' + key + ' button');\n",
              "      quickchartButtonEl.disabled = true;  // To prevent multiple clicks.\n",
              "      quickchartButtonEl.classList.add('colab-df-spinner');\n",
              "      try {\n",
              "        const charts = await google.colab.kernel.invokeFunction(\n",
              "            'suggestCharts', [key], {});\n",
              "      } catch (error) {\n",
              "        console.error('Error during call to suggestCharts:', error);\n",
              "      }\n",
              "      quickchartButtonEl.classList.remove('colab-df-spinner');\n",
              "      quickchartButtonEl.classList.add('colab-df-quickchart-complete');\n",
              "    }\n",
              "    (() => {\n",
              "      let quickchartButtonEl =\n",
              "        document.querySelector('#df-8c6467ef-6e72-4881-95b1-297702d3aef7 button');\n",
              "      quickchartButtonEl.style.display =\n",
              "        google.colab.kernel.accessAllowed ? 'block' : 'none';\n",
              "    })();\n",
              "  </script>\n",
              "</div>\n",
              "    </div>\n",
              "  </div>\n"
            ],
            "application/vnd.google.colaboratory.intrinsic+json": {
              "type": "dataframe",
              "variable_name": "average_metrics",
              "summary": "{\n  \"name\": \"average_metrics\",\n  \"rows\": 5,\n  \"fields\": [\n    {\n      \"column\": \"Channel Name\",\n      \"properties\": {\n        \"dtype\": \"string\",\n        \"num_unique_values\": 5,\n        \"samples\": [\n          \"Dr. Eric Berg DC\",\n          \"Shawn Baker MD\",\n          \"Nutrition By Kylie\"\n        ],\n        \"semantic_type\": \"\",\n        \"description\": \"\"\n      }\n    },\n    {\n      \"column\": \"Average View Count\",\n      \"properties\": {\n        \"dtype\": \"number\",\n        \"std\": 809083.490900253,\n        \"min\": 31794.526315789473,\n        \"max\": 1989251.92,\n        \"num_unique_values\": 5,\n        \"samples\": [\n          247211.42603550295,\n          31794.526315789473,\n          1989251.92\n        ],\n        \"semantic_type\": \"\",\n        \"description\": \"\"\n      }\n    },\n    {\n      \"column\": \"Average Comment Count\",\n      \"properties\": {\n        \"dtype\": \"number\",\n        \"std\": 809083.490900253,\n        \"min\": 31794.526315789473,\n        \"max\": 1989251.92,\n        \"num_unique_values\": 5,\n        \"samples\": [\n          247211.42603550295,\n          31794.526315789473,\n          1989251.92\n        ],\n        \"semantic_type\": \"\",\n        \"description\": \"\"\n      }\n    },\n    {\n      \"column\": \"Average Like Count\",\n      \"properties\": {\n        \"dtype\": \"number\",\n        \"std\": 809083.490900253,\n        \"min\": 31794.526315789473,\n        \"max\": 1989251.92,\n        \"num_unique_values\": 5,\n        \"samples\": [\n          247211.42603550295,\n          31794.526315789473,\n          1989251.92\n        ],\n        \"semantic_type\": \"\",\n        \"description\": \"\"\n      }\n    }\n  ]\n}"
            }
          },
          "metadata": {},
          "execution_count": 21
        }
      ]
    },
    {
      "cell_type": "markdown",
      "source": [
        "### Retrieving Comments Data"
      ],
      "metadata": {
        "id": "DO-KrIY9Mem1"
      }
    },
    {
      "cell_type": "markdown",
      "source": [
        "####Data Cleaning and processing"
      ],
      "metadata": {
        "id": "tMSVTr81vDjm"
      }
    },
    {
      "cell_type": "markdown",
      "source": [
        "Processing data using pandas\n",
        "(Code below uses arbitrary names and names need to be replaced accordingly when using)"
      ],
      "metadata": {
        "id": "NiRwgIzEIjI7"
      }
    },
    {
      "cell_type": "code",
      "source": [
        "import pandas as pd\n",
        "import re\n",
        "\n",
        "pd.options.display.max_rows = 100"
      ],
      "metadata": {
        "id": "_JSXHAt5rHA7"
      },
      "execution_count": null,
      "outputs": []
    },
    {
      "cell_type": "code",
      "source": [
        "name_df = pd.read_csv('name.csv', delimiter=\",\") #replace name.csv with actual name of the csv file, relace name_df with a good naming for this df"
      ],
      "metadata": {
        "id": "9I4uskwVJFLB"
      },
      "execution_count": null,
      "outputs": []
    },
    {
      "cell_type": "markdown",
      "source": [
        "Change all comments to lower cases."
      ],
      "metadata": {
        "id": "PalcRkgvJbx7"
      }
    },
    {
      "cell_type": "code",
      "source": [
        "name_df['comments'].str.lower() #if the name of the column comments are in is different, address accoridngly"
      ],
      "metadata": {
        "id": "6LRRfJPlJhdD"
      },
      "execution_count": null,
      "outputs": []
    },
    {
      "cell_type": "markdown",
      "source": [
        "Remove special characters and keep alphanumeric characters."
      ],
      "metadata": {
        "id": "QEUg3ls7JnDe"
      }
    },
    {
      "cell_type": "code",
      "source": [
        "def remove_special_characters(text):\n",
        "    pattern = r'[^a-zA-Z0-9\\s]'  # Keep alphanumeric characters and whitespace\n",
        "    return re.sub(pattern, '', text)"
      ],
      "metadata": {
        "id": "T5uLBC1WJtjV"
      },
      "execution_count": null,
      "outputs": []
    },
    {
      "cell_type": "code",
      "source": [
        "# Apply the function to the 'comments' column, store cleaned comments in 'clean_comments'\n",
        "name_df['clean_comments'] = name_df['comments'].apply(remove_special_characters)"
      ],
      "metadata": {
        "id": "TSi6st2bNiJ5"
      },
      "execution_count": null,
      "outputs": []
    },
    {
      "cell_type": "code",
      "source": [
        "name_df"
      ],
      "metadata": {
        "id": "kmovhnfBJ4Jd"
      },
      "execution_count": null,
      "outputs": []
    },
    {
      "cell_type": "markdown",
      "source": [
        "Split comments into token using nltk library.(Here I'm spliting by word but we also have options to do sentence token)"
      ],
      "metadata": {
        "id": "hbU8AFfpJ8Mw"
      }
    },
    {
      "cell_type": "code",
      "source": [
        "import nltk\n",
        "nltk.download('punkt')\n",
        "from nltk.tokenize import word_tokenize"
      ],
      "metadata": {
        "id": "JjETSrckJ7E9"
      },
      "execution_count": null,
      "outputs": []
    },
    {
      "cell_type": "code",
      "source": [
        "def tokenize_text(text):\n",
        "    tokens = word_tokenize(text)\n",
        "    return tokens"
      ],
      "metadata": {
        "id": "SIVQWkVyNu3d"
      },
      "execution_count": null,
      "outputs": []
    },
    {
      "cell_type": "code",
      "source": [
        "# Apply the function to the 'clean_comments' column, store tokenized comments in 'tokenized_comments'\n",
        "name_df['tokenized_comments']=name_df['clean_comments'].apply(tokenize_text)"
      ],
      "metadata": {
        "id": "vzVZz9DjNyVw"
      },
      "execution_count": null,
      "outputs": []
    },
    {
      "cell_type": "code",
      "source": [
        "name_df"
      ],
      "metadata": {
        "id": "b-5DInBgN1iw"
      },
      "execution_count": null,
      "outputs": []
    },
    {
      "cell_type": "markdown",
      "source": [
        "Removing stop words using NLTK library."
      ],
      "metadata": {
        "id": "GoKhESfoFtPq"
      }
    },
    {
      "cell_type": "code",
      "source": [
        "import nltk\n",
        "from nltk.corpus import stopwords\n",
        "nltk.download('stopwords')"
      ],
      "metadata": {
        "colab": {
          "base_uri": "https://localhost:8080/"
        },
        "id": "U4TmP7DnFs1a",
        "outputId": "06799b8a-87d5-4168-cf03-2d7252eb7e9b"
      },
      "execution_count": null,
      "outputs": [
        {
          "output_type": "stream",
          "name": "stderr",
          "text": [
            "[nltk_data] Downloading package stopwords to /root/nltk_data...\n",
            "[nltk_data]   Unzipping corpora/stopwords.zip.\n"
          ]
        },
        {
          "output_type": "execute_result",
          "data": {
            "text/plain": [
              "True"
            ]
          },
          "metadata": {},
          "execution_count": 25
        }
      ]
    },
    {
      "cell_type": "code",
      "source": [
        "def remove_stopwords(tokens):\n",
        "  # Get the set of English stopwords from NLTK\n",
        "    english_stopwords = set(stopwords.words('english'))\n",
        "\n",
        "    # Filter out stopwords from the list of tokens\n",
        "    filtered_tokens = [token for token in tokens if token.lower() not in english_stopwords]\n",
        "\n",
        "    return filtered_tokens\n"
      ],
      "metadata": {
        "id": "-F1r6XXXGZIo"
      },
      "execution_count": null,
      "outputs": []
    },
    {
      "cell_type": "code",
      "source": [
        "# Apply remove_stopwords function to the 'tokenized_words' column\n",
        "name_df['filtered_words'] = name_df['tokenized_words'].apply(remove_stopwords)"
      ],
      "metadata": {
        "id": "nIgF5K7XG3a0"
      },
      "execution_count": null,
      "outputs": []
    },
    {
      "cell_type": "markdown",
      "source": [
        "##Next Steps"
      ],
      "metadata": {
        "id": "nkYAsf6pKUnG"
      }
    },
    {
      "cell_type": "markdown",
      "source": [
        "## Credits\n",
        "Credit listing of what each team member contributed to completing this part of the project.\n",
        "\n",
        "Riley\n",
        "*   List item\n",
        "*   List item\n",
        "\n",
        "Jiyoon\n",
        "*   Attended project check-ins and meetings to refine research question\n",
        "*   Wrote problem, method, criteria sections\n",
        "*   Wrote code for receiving channel data\n",
        "* Wrote code for creating uploads data (misinfo_df, info_df, youtube_df)\n",
        "\n",
        "Keyan\n",
        "*   Attended project check-ins and meetings to refine research question\n",
        "*   Wrote code for data cleaning and processing part\n",
        "*   Wrote code for general channel analysis (computing averages)\n",
        "\n",
        "Mustafa\n",
        "*   List item\n",
        "*   List item"
      ],
      "metadata": {
        "id": "Vq9Dy8NdWmqZ"
      }
    },
    {
      "cell_type": "markdown",
      "source": [
        "## Processed data files\n",
        "Processed data files (in compressed form if large), preferably in CSV format. If it still does not fit, let us know"
      ],
      "metadata": {
        "id": "yMIEXpFJWyAI"
      }
    },
    {
      "cell_type": "code",
      "source": [],
      "metadata": {
        "id": "OSpn8TDrIqm7"
      },
      "execution_count": null,
      "outputs": []
    }
  ]
}