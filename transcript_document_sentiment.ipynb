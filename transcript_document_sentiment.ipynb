{
 "cells": [
  {
   "cell_type": "code",
   "execution_count": 2,
   "metadata": {},
   "outputs": [],
   "source": [
    "from transformers import pipeline"
   ]
  },
  {
   "cell_type": "code",
   "execution_count": 3,
   "metadata": {},
   "outputs": [
    {
     "name": "stderr",
     "output_type": "stream",
     "text": [
      "No model was supplied, defaulted to distilbert/distilbert-base-uncased-finetuned-sst-2-english and revision af0f99b (https://huggingface.co/distilbert/distilbert-base-uncased-finetuned-sst-2-english).\n",
      "Using a pipeline without specifying a model name and revision in production is not recommended.\n"
     ]
    },
    {
     "data": {
      "application/vnd.jupyter.widget-view+json": {
       "model_id": "610df7a83c644bf88aadf70014c1b277",
       "version_major": 2,
       "version_minor": 0
      },
      "text/plain": [
       "config.json:   0%|          | 0.00/629 [00:00<?, ?B/s]"
      ]
     },
     "metadata": {},
     "output_type": "display_data"
    },
    {
     "data": {
      "application/vnd.jupyter.widget-view+json": {
       "model_id": "3c64927472444f65b5d852c50c9538ec",
       "version_major": 2,
       "version_minor": 0
      },
      "text/plain": [
       "model.safetensors:   0%|          | 0.00/268M [00:00<?, ?B/s]"
      ]
     },
     "metadata": {},
     "output_type": "display_data"
    },
    {
     "data": {
      "application/vnd.jupyter.widget-view+json": {
       "model_id": "1a6f67c56cc945409a5e1449b3411b03",
       "version_major": 2,
       "version_minor": 0
      },
      "text/plain": [
       "tokenizer_config.json:   0%|          | 0.00/48.0 [00:00<?, ?B/s]"
      ]
     },
     "metadata": {},
     "output_type": "display_data"
    },
    {
     "data": {
      "application/vnd.jupyter.widget-view+json": {
       "model_id": "732c20563e68489fb743f0f4c41a808d",
       "version_major": 2,
       "version_minor": 0
      },
      "text/plain": [
       "vocab.txt:   0%|          | 0.00/232k [00:00<?, ?B/s]"
      ]
     },
     "metadata": {},
     "output_type": "display_data"
    },
    {
     "name": "stdout",
     "output_type": "stream",
     "text": [
      "[{'label': 'POSITIVE', 'score': 0.9998656511306763}, {'label': 'NEGATIVE', 'score': 0.9991129040718079}]\n"
     ]
    }
   ],
   "source": [
    "# Initialize the sentiment analysis pipeline\n",
    "sentiment_pipeline = pipeline(\"sentiment-analysis\")\n",
    "# Sample data\n",
    "data = [\"I love you\", \"I hate you\"]\n",
    "# Perform sentiment analysis\n",
    "results = sentiment_pipeline(data)\n",
    "print(results)"
   ]
  },
  {
   "cell_type": "code",
   "execution_count": 37,
   "metadata": {},
   "outputs": [
    {
     "data": {
      "text/html": [
       "<div>\n",
       "<style scoped>\n",
       "    .dataframe tbody tr th:only-of-type {\n",
       "        vertical-align: middle;\n",
       "    }\n",
       "\n",
       "    .dataframe tbody tr th {\n",
       "        vertical-align: top;\n",
       "    }\n",
       "\n",
       "    .dataframe thead th {\n",
       "        text-align: right;\n",
       "    }\n",
       "</style>\n",
       "<table border=\"1\" class=\"dataframe\">\n",
       "  <thead>\n",
       "    <tr style=\"text-align: right;\">\n",
       "      <th></th>\n",
       "      <th>ID</th>\n",
       "      <th>transcript_with_punctuation</th>\n",
       "    </tr>\n",
       "  </thead>\n",
       "  <tbody>\n",
       "    <tr>\n",
       "      <th>0</th>\n",
       "      <td>do8O1YxzdVg</td>\n",
       "      <td>if you don't like eating veggies, this video i...</td>\n",
       "    </tr>\n",
       "    <tr>\n",
       "      <th>1</th>\n",
       "      <td>bpsKYwQffes</td>\n",
       "      <td>if you are not freezing your rice, this is you...</td>\n",
       "    </tr>\n",
       "    <tr>\n",
       "      <th>2</th>\n",
       "      <td>9RO83PiuQ-A</td>\n",
       "      <td>if you don't like cooking and washing dishes b...</td>\n",
       "    </tr>\n",
       "    <tr>\n",
       "      <th>3</th>\n",
       "      <td>dI-Be4IehyQ</td>\n",
       "      <td>you've heard of sheep pan dinners, but have yo...</td>\n",
       "    </tr>\n",
       "    <tr>\n",
       "      <th>4</th>\n",
       "      <td>O_7ZvwhzqGg</td>\n",
       "      <td>if you like salads but hate preparing them, th...</td>\n",
       "    </tr>\n",
       "  </tbody>\n",
       "</table>\n",
       "</div>"
      ],
      "text/plain": [
       "            ID                        transcript_with_punctuation\n",
       "0  do8O1YxzdVg  if you don't like eating veggies, this video i...\n",
       "1  bpsKYwQffes  if you are not freezing your rice, this is you...\n",
       "2  9RO83PiuQ-A  if you don't like cooking and washing dishes b...\n",
       "3  dI-Be4IehyQ  you've heard of sheep pan dinners, but have yo...\n",
       "4  O_7ZvwhzqGg  if you like salads but hate preparing them, th..."
      ]
     },
     "execution_count": 37,
     "metadata": {},
     "output_type": "execute_result"
    }
   ],
   "source": [
    "import pandas as pd \n",
    "\n",
    "mis_df = pd.read_csv('info_trans_with_punctuation_cleaned.csv')\n",
    "info_df = pd.read_csv('misinfo_trans_with_punctuation_cleaned.csv')\n",
    "\n",
    "mis_df.head(5)"
   ]
  },
  {
   "cell_type": "markdown",
   "metadata": {},
   "source": [
    "### Clean Data"
   ]
  },
  {
   "cell_type": "code",
   "execution_count": 38,
   "metadata": {},
   "outputs": [
    {
     "data": {
      "application/vnd.jupyter.widget-view+json": {
       "model_id": "ab4bf3ce51324d67b7ae03020c87d0b2",
       "version_major": 2,
       "version_minor": 0
      },
      "text/plain": [
       "config.json:   0%|          | 0.00/929 [00:00<?, ?B/s]"
      ]
     },
     "metadata": {},
     "output_type": "display_data"
    },
    {
     "data": {
      "application/vnd.jupyter.widget-view+json": {
       "model_id": "b7e9f4df8c3344c0859bac2e0194a454",
       "version_major": 2,
       "version_minor": 0
      },
      "text/plain": [
       "vocab.json:   0%|          | 0.00/899k [00:00<?, ?B/s]"
      ]
     },
     "metadata": {},
     "output_type": "display_data"
    },
    {
     "data": {
      "application/vnd.jupyter.widget-view+json": {
       "model_id": "c97ab496ec0f482fbd193c1d75cd0759",
       "version_major": 2,
       "version_minor": 0
      },
      "text/plain": [
       "merges.txt:   0%|          | 0.00/456k [00:00<?, ?B/s]"
      ]
     },
     "metadata": {},
     "output_type": "display_data"
    },
    {
     "data": {
      "application/vnd.jupyter.widget-view+json": {
       "model_id": "c51b83201d944734b4bb6b30a087e2aa",
       "version_major": 2,
       "version_minor": 0
      },
      "text/plain": [
       "special_tokens_map.json:   0%|          | 0.00/239 [00:00<?, ?B/s]"
      ]
     },
     "metadata": {},
     "output_type": "display_data"
    },
    {
     "data": {
      "application/vnd.jupyter.widget-view+json": {
       "model_id": "69726a0b17c94b6a92cb58220d08aa2d",
       "version_major": 2,
       "version_minor": 0
      },
      "text/plain": [
       "pytorch_model.bin:   0%|          | 0.00/501M [00:00<?, ?B/s]"
      ]
     },
     "metadata": {},
     "output_type": "display_data"
    },
    {
     "name": "stderr",
     "output_type": "stream",
     "text": [
      "Some weights of the model checkpoint at cardiffnlp/twitter-roberta-base-sentiment-latest were not used when initializing RobertaForSequenceClassification: ['roberta.pooler.dense.bias', 'roberta.pooler.dense.weight']\n",
      "- This IS expected if you are initializing RobertaForSequenceClassification from the checkpoint of a model trained on another task or with another architecture (e.g. initializing a BertForSequenceClassification model from a BertForPreTraining model).\n",
      "- This IS NOT expected if you are initializing RobertaForSequenceClassification from the checkpoint of a model that you expect to be exactly identical (initializing a BertForSequenceClassification model from a BertForSequenceClassification model).\n"
     ]
    }
   ],
   "source": [
    "from transformers import AutoTokenizer, AutoModelForSequenceClassification\n",
    "\n",
    "model_name = \"cardiffnlp/twitter-roberta-base-sentiment-latest\"\n",
    "tokenizer = AutoTokenizer.from_pretrained(model_name)\n",
    "model = AutoModelForSequenceClassification.from_pretrained(model_name)"
   ]
  },
  {
   "cell_type": "code",
   "execution_count": 39,
   "metadata": {},
   "outputs": [],
   "source": [
    "def tokenize_text(text):\n",
    "  encoded_text = tokenizer(text, return_tensors=\"pt\")  # Convert to PyTorch tensors\n",
    "  return encoded_text\n",
    "\n",
    "info_df['encoded_text'] = info_df['transcript_with_punctuation'].apply(tokenize_text)"
   ]
  },
  {
   "cell_type": "code",
   "execution_count": 40,
   "metadata": {},
   "outputs": [],
   "source": [
    "import torch\n",
    "def predict_sentiment(encoded_text):\n",
    "  with torch.no_grad():  # Disable gradient calculation for efficiency\n",
    "    output = model(**encoded_text)\n",
    "    predictions = torch.nn.functional.softmax(output.logits, dim=-1)  # Get probabilities\n",
    "    return predictions[:, 1].item()  # Return probability of positive class\n",
    "\n",
    "info_df['sentiment'] = info_df['encoded_text'].apply(lambda x: predict_sentiment(x))"
   ]
  },
  {
   "cell_type": "code",
   "execution_count": 41,
   "metadata": {},
   "outputs": [
    {
     "data": {
      "text/html": [
       "<div>\n",
       "<style scoped>\n",
       "    .dataframe tbody tr th:only-of-type {\n",
       "        vertical-align: middle;\n",
       "    }\n",
       "\n",
       "    .dataframe tbody tr th {\n",
       "        vertical-align: top;\n",
       "    }\n",
       "\n",
       "    .dataframe thead th {\n",
       "        text-align: right;\n",
       "    }\n",
       "</style>\n",
       "<table border=\"1\" class=\"dataframe\">\n",
       "  <thead>\n",
       "    <tr style=\"text-align: right;\">\n",
       "      <th></th>\n",
       "      <th>ID</th>\n",
       "      <th>transcript_with_punctuation</th>\n",
       "      <th>encoded_text</th>\n",
       "      <th>sentiment</th>\n",
       "    </tr>\n",
       "  </thead>\n",
       "  <tbody>\n",
       "    <tr>\n",
       "      <th>0</th>\n",
       "      <td>zqdxQWTdIM4</td>\n",
       "      <td>I'm going to show you the absolute best natura...</td>\n",
       "      <td>[input_ids, attention_mask]</td>\n",
       "      <td>0.471503</td>\n",
       "    </tr>\n",
       "    <tr>\n",
       "      <th>1</th>\n",
       "      <td>aYV9EWaiz_Y</td>\n",
       "      <td>I'm going to give you three tips to help you l...</td>\n",
       "      <td>[input_ids, attention_mask]</td>\n",
       "      <td>0.382934</td>\n",
       "    </tr>\n",
       "    <tr>\n",
       "      <th>2</th>\n",
       "      <td>G4guVvCYAEA</td>\n",
       "      <td>the absolute number one most inflammatory food...</td>\n",
       "      <td>[input_ids, attention_mask]</td>\n",
       "      <td>0.165083</td>\n",
       "    </tr>\n",
       "    <tr>\n",
       "      <th>3</th>\n",
       "      <td>u0-U3-f4VHM</td>\n",
       "      <td>you know, if you went to your kitchen right no...</td>\n",
       "      <td>[input_ids, attention_mask]</td>\n",
       "      <td>0.416922</td>\n",
       "    </tr>\n",
       "    <tr>\n",
       "      <th>4</th>\n",
       "      <td>llDg68l626M</td>\n",
       "      <td>all right, we're at our favorite restaurant, K...</td>\n",
       "      <td>[input_ids, attention_mask]</td>\n",
       "      <td>0.076333</td>\n",
       "    </tr>\n",
       "    <tr>\n",
       "      <th>...</th>\n",
       "      <td>...</td>\n",
       "      <td>...</td>\n",
       "      <td>...</td>\n",
       "      <td>...</td>\n",
       "    </tr>\n",
       "    <tr>\n",
       "      <th>1252</th>\n",
       "      <td>3SHtxj9nRpM</td>\n",
       "      <td>here are the top 5 foods to stay away from in ...</td>\n",
       "      <td>[input_ids, attention_mask]</td>\n",
       "      <td>0.261021</td>\n",
       "    </tr>\n",
       "    <tr>\n",
       "      <th>1253</th>\n",
       "      <td>9eeNkQNtfxY</td>\n",
       "      <td>are you looking to improve your diet but don't...</td>\n",
       "      <td>[input_ids, attention_mask]</td>\n",
       "      <td>0.421491</td>\n",
       "    </tr>\n",
       "    <tr>\n",
       "      <th>1254</th>\n",
       "      <td>PdLrENnDPbA</td>\n",
       "      <td>here are five simple steps to help you create ...</td>\n",
       "      <td>[input_ids, attention_mask]</td>\n",
       "      <td>0.307707</td>\n",
       "    </tr>\n",
       "    <tr>\n",
       "      <th>1255</th>\n",
       "      <td>ffF45hF4NV0</td>\n",
       "      <td>chase your dreams, not excuses. stop making re...</td>\n",
       "      <td>[input_ids, attention_mask]</td>\n",
       "      <td>0.219639</td>\n",
       "    </tr>\n",
       "    <tr>\n",
       "      <th>1256</th>\n",
       "      <td>c956Rmjfquw</td>\n",
       "      <td>five habits of successful people. one: they se...</td>\n",
       "      <td>[input_ids, attention_mask]</td>\n",
       "      <td>0.128367</td>\n",
       "    </tr>\n",
       "  </tbody>\n",
       "</table>\n",
       "<p>1257 rows × 4 columns</p>\n",
       "</div>"
      ],
      "text/plain": [
       "               ID                        transcript_with_punctuation  \\\n",
       "0     zqdxQWTdIM4  I'm going to show you the absolute best natura...   \n",
       "1     aYV9EWaiz_Y  I'm going to give you three tips to help you l...   \n",
       "2     G4guVvCYAEA  the absolute number one most inflammatory food...   \n",
       "3     u0-U3-f4VHM  you know, if you went to your kitchen right no...   \n",
       "4     llDg68l626M  all right, we're at our favorite restaurant, K...   \n",
       "...           ...                                                ...   \n",
       "1252  3SHtxj9nRpM  here are the top 5 foods to stay away from in ...   \n",
       "1253  9eeNkQNtfxY  are you looking to improve your diet but don't...   \n",
       "1254  PdLrENnDPbA  here are five simple steps to help you create ...   \n",
       "1255  ffF45hF4NV0  chase your dreams, not excuses. stop making re...   \n",
       "1256  c956Rmjfquw  five habits of successful people. one: they se...   \n",
       "\n",
       "                     encoded_text  sentiment  \n",
       "0     [input_ids, attention_mask]   0.471503  \n",
       "1     [input_ids, attention_mask]   0.382934  \n",
       "2     [input_ids, attention_mask]   0.165083  \n",
       "3     [input_ids, attention_mask]   0.416922  \n",
       "4     [input_ids, attention_mask]   0.076333  \n",
       "...                           ...        ...  \n",
       "1252  [input_ids, attention_mask]   0.261021  \n",
       "1253  [input_ids, attention_mask]   0.421491  \n",
       "1254  [input_ids, attention_mask]   0.307707  \n",
       "1255  [input_ids, attention_mask]   0.219639  \n",
       "1256  [input_ids, attention_mask]   0.128367  \n",
       "\n",
       "[1257 rows x 4 columns]"
      ]
     },
     "execution_count": 41,
     "metadata": {},
     "output_type": "execute_result"
    }
   ],
   "source": [
    "info_df"
   ]
  },
  {
   "cell_type": "code",
   "execution_count": 42,
   "metadata": {},
   "outputs": [
    {
     "data": {
      "text/html": [
       "<div>\n",
       "<style scoped>\n",
       "    .dataframe tbody tr th:only-of-type {\n",
       "        vertical-align: middle;\n",
       "    }\n",
       "\n",
       "    .dataframe tbody tr th {\n",
       "        vertical-align: top;\n",
       "    }\n",
       "\n",
       "    .dataframe thead th {\n",
       "        text-align: right;\n",
       "    }\n",
       "</style>\n",
       "<table border=\"1\" class=\"dataframe\">\n",
       "  <thead>\n",
       "    <tr style=\"text-align: right;\">\n",
       "      <th></th>\n",
       "      <th>ID</th>\n",
       "      <th>transcript_with_punctuation</th>\n",
       "      <th>encoded_text</th>\n",
       "      <th>sentiment</th>\n",
       "    </tr>\n",
       "  </thead>\n",
       "  <tbody>\n",
       "    <tr>\n",
       "      <th>0</th>\n",
       "      <td>do8O1YxzdVg</td>\n",
       "      <td>if you don't like eating veggies, this video i...</td>\n",
       "      <td>[input_ids, attention_mask]</td>\n",
       "      <td>0.370416</td>\n",
       "    </tr>\n",
       "    <tr>\n",
       "      <th>1</th>\n",
       "      <td>bpsKYwQffes</td>\n",
       "      <td>if you are not freezing your rice, this is you...</td>\n",
       "      <td>[input_ids, attention_mask]</td>\n",
       "      <td>0.573456</td>\n",
       "    </tr>\n",
       "    <tr>\n",
       "      <th>2</th>\n",
       "      <td>9RO83PiuQ-A</td>\n",
       "      <td>if you don't like cooking and washing dishes b...</td>\n",
       "      <td>[input_ids, attention_mask]</td>\n",
       "      <td>0.313569</td>\n",
       "    </tr>\n",
       "    <tr>\n",
       "      <th>3</th>\n",
       "      <td>dI-Be4IehyQ</td>\n",
       "      <td>you've heard of sheep pan dinners, but have yo...</td>\n",
       "      <td>[input_ids, attention_mask]</td>\n",
       "      <td>0.088705</td>\n",
       "    </tr>\n",
       "    <tr>\n",
       "      <th>4</th>\n",
       "      <td>O_7ZvwhzqGg</td>\n",
       "      <td>if you like salads but hate preparing them, th...</td>\n",
       "      <td>[input_ids, attention_mask]</td>\n",
       "      <td>0.600128</td>\n",
       "    </tr>\n",
       "    <tr>\n",
       "      <th>...</th>\n",
       "      <td>...</td>\n",
       "      <td>...</td>\n",
       "      <td>...</td>\n",
       "      <td>...</td>\n",
       "    </tr>\n",
       "    <tr>\n",
       "      <th>721</th>\n",
       "      <td>h1HN1mUtlBE</td>\n",
       "      <td>here's what your favorite foods say about you,...</td>\n",
       "      <td>[input_ids, attention_mask]</td>\n",
       "      <td>0.573707</td>\n",
       "    </tr>\n",
       "    <tr>\n",
       "      <th>722</th>\n",
       "      <td>0pCBZYrGWqY</td>\n",
       "      <td>hear my thoughts on nutrition Trends and fads ...</td>\n",
       "      <td>[input_ids, attention_mask]</td>\n",
       "      <td>0.750411</td>\n",
       "    </tr>\n",
       "    <tr>\n",
       "      <th>723</th>\n",
       "      <td>wkvxzcQEXoE</td>\n",
       "      <td>do you need a super simple, thinner, and I mea...</td>\n",
       "      <td>[input_ids, attention_mask]</td>\n",
       "      <td>0.658251</td>\n",
       "    </tr>\n",
       "    <tr>\n",
       "      <th>724</th>\n",
       "      <td>9r3uCzlBHIg</td>\n",
       "      <td>I'm a dietitian and a mom who does baby lead w...</td>\n",
       "      <td>[input_ids, attention_mask]</td>\n",
       "      <td>0.653318</td>\n",
       "    </tr>\n",
       "    <tr>\n",
       "      <th>725</th>\n",
       "      <td>EaOrwg8zwSk</td>\n",
       "      <td>man, i think i maybe need to lose some weight....</td>\n",
       "      <td>[input_ids, attention_mask]</td>\n",
       "      <td>0.413492</td>\n",
       "    </tr>\n",
       "  </tbody>\n",
       "</table>\n",
       "<p>726 rows × 4 columns</p>\n",
       "</div>"
      ],
      "text/plain": [
       "              ID                        transcript_with_punctuation  \\\n",
       "0    do8O1YxzdVg  if you don't like eating veggies, this video i...   \n",
       "1    bpsKYwQffes  if you are not freezing your rice, this is you...   \n",
       "2    9RO83PiuQ-A  if you don't like cooking and washing dishes b...   \n",
       "3    dI-Be4IehyQ  you've heard of sheep pan dinners, but have yo...   \n",
       "4    O_7ZvwhzqGg  if you like salads but hate preparing them, th...   \n",
       "..           ...                                                ...   \n",
       "721  h1HN1mUtlBE  here's what your favorite foods say about you,...   \n",
       "722  0pCBZYrGWqY  hear my thoughts on nutrition Trends and fads ...   \n",
       "723  wkvxzcQEXoE  do you need a super simple, thinner, and I mea...   \n",
       "724  9r3uCzlBHIg  I'm a dietitian and a mom who does baby lead w...   \n",
       "725  EaOrwg8zwSk  man, i think i maybe need to lose some weight....   \n",
       "\n",
       "                    encoded_text  sentiment  \n",
       "0    [input_ids, attention_mask]   0.370416  \n",
       "1    [input_ids, attention_mask]   0.573456  \n",
       "2    [input_ids, attention_mask]   0.313569  \n",
       "3    [input_ids, attention_mask]   0.088705  \n",
       "4    [input_ids, attention_mask]   0.600128  \n",
       "..                           ...        ...  \n",
       "721  [input_ids, attention_mask]   0.573707  \n",
       "722  [input_ids, attention_mask]   0.750411  \n",
       "723  [input_ids, attention_mask]   0.658251  \n",
       "724  [input_ids, attention_mask]   0.653318  \n",
       "725  [input_ids, attention_mask]   0.413492  \n",
       "\n",
       "[726 rows x 4 columns]"
      ]
     },
     "execution_count": 42,
     "metadata": {},
     "output_type": "execute_result"
    }
   ],
   "source": [
    "mis_df['encoded_text'] = mis_df['transcript_with_punctuation'].apply(tokenize_text)\n",
    "mis_df['sentiment'] = mis_df['encoded_text'].apply(lambda x: predict_sentiment(x))\n",
    "mis_df"
   ]
  },
  {
   "cell_type": "code",
   "execution_count": 43,
   "metadata": {},
   "outputs": [
    {
     "data": {
      "text/html": [
       "<div>\n",
       "<style scoped>\n",
       "    .dataframe tbody tr th:only-of-type {\n",
       "        vertical-align: middle;\n",
       "    }\n",
       "\n",
       "    .dataframe tbody tr th {\n",
       "        vertical-align: top;\n",
       "    }\n",
       "\n",
       "    .dataframe thead th {\n",
       "        text-align: right;\n",
       "    }\n",
       "</style>\n",
       "<table border=\"1\" class=\"dataframe\">\n",
       "  <thead>\n",
       "    <tr style=\"text-align: right;\">\n",
       "      <th></th>\n",
       "      <th>ID</th>\n",
       "      <th>transcript_with_punctuation</th>\n",
       "      <th>encoded_text</th>\n",
       "      <th>sentiment</th>\n",
       "      <th>is_informative</th>\n",
       "    </tr>\n",
       "  </thead>\n",
       "  <tbody>\n",
       "    <tr>\n",
       "      <th>0</th>\n",
       "      <td>do8O1YxzdVg</td>\n",
       "      <td>if you don't like eating veggies, this video i...</td>\n",
       "      <td>[input_ids, attention_mask]</td>\n",
       "      <td>0.370416</td>\n",
       "      <td>0</td>\n",
       "    </tr>\n",
       "    <tr>\n",
       "      <th>1</th>\n",
       "      <td>bpsKYwQffes</td>\n",
       "      <td>if you are not freezing your rice, this is you...</td>\n",
       "      <td>[input_ids, attention_mask]</td>\n",
       "      <td>0.573456</td>\n",
       "      <td>0</td>\n",
       "    </tr>\n",
       "    <tr>\n",
       "      <th>2</th>\n",
       "      <td>9RO83PiuQ-A</td>\n",
       "      <td>if you don't like cooking and washing dishes b...</td>\n",
       "      <td>[input_ids, attention_mask]</td>\n",
       "      <td>0.313569</td>\n",
       "      <td>0</td>\n",
       "    </tr>\n",
       "    <tr>\n",
       "      <th>3</th>\n",
       "      <td>dI-Be4IehyQ</td>\n",
       "      <td>you've heard of sheep pan dinners, but have yo...</td>\n",
       "      <td>[input_ids, attention_mask]</td>\n",
       "      <td>0.088705</td>\n",
       "      <td>0</td>\n",
       "    </tr>\n",
       "    <tr>\n",
       "      <th>4</th>\n",
       "      <td>O_7ZvwhzqGg</td>\n",
       "      <td>if you like salads but hate preparing them, th...</td>\n",
       "      <td>[input_ids, attention_mask]</td>\n",
       "      <td>0.600128</td>\n",
       "      <td>0</td>\n",
       "    </tr>\n",
       "    <tr>\n",
       "      <th>...</th>\n",
       "      <td>...</td>\n",
       "      <td>...</td>\n",
       "      <td>...</td>\n",
       "      <td>...</td>\n",
       "      <td>...</td>\n",
       "    </tr>\n",
       "    <tr>\n",
       "      <th>1978</th>\n",
       "      <td>3SHtxj9nRpM</td>\n",
       "      <td>here are the top 5 foods to stay away from in ...</td>\n",
       "      <td>[input_ids, attention_mask]</td>\n",
       "      <td>0.261021</td>\n",
       "      <td>1</td>\n",
       "    </tr>\n",
       "    <tr>\n",
       "      <th>1979</th>\n",
       "      <td>9eeNkQNtfxY</td>\n",
       "      <td>are you looking to improve your diet but don't...</td>\n",
       "      <td>[input_ids, attention_mask]</td>\n",
       "      <td>0.421491</td>\n",
       "      <td>1</td>\n",
       "    </tr>\n",
       "    <tr>\n",
       "      <th>1980</th>\n",
       "      <td>PdLrENnDPbA</td>\n",
       "      <td>here are five simple steps to help you create ...</td>\n",
       "      <td>[input_ids, attention_mask]</td>\n",
       "      <td>0.307707</td>\n",
       "      <td>1</td>\n",
       "    </tr>\n",
       "    <tr>\n",
       "      <th>1981</th>\n",
       "      <td>ffF45hF4NV0</td>\n",
       "      <td>chase your dreams, not excuses. stop making re...</td>\n",
       "      <td>[input_ids, attention_mask]</td>\n",
       "      <td>0.219639</td>\n",
       "      <td>1</td>\n",
       "    </tr>\n",
       "    <tr>\n",
       "      <th>1982</th>\n",
       "      <td>c956Rmjfquw</td>\n",
       "      <td>five habits of successful people. one: they se...</td>\n",
       "      <td>[input_ids, attention_mask]</td>\n",
       "      <td>0.128367</td>\n",
       "      <td>1</td>\n",
       "    </tr>\n",
       "  </tbody>\n",
       "</table>\n",
       "<p>1983 rows × 5 columns</p>\n",
       "</div>"
      ],
      "text/plain": [
       "               ID                        transcript_with_punctuation  \\\n",
       "0     do8O1YxzdVg  if you don't like eating veggies, this video i...   \n",
       "1     bpsKYwQffes  if you are not freezing your rice, this is you...   \n",
       "2     9RO83PiuQ-A  if you don't like cooking and washing dishes b...   \n",
       "3     dI-Be4IehyQ  you've heard of sheep pan dinners, but have yo...   \n",
       "4     O_7ZvwhzqGg  if you like salads but hate preparing them, th...   \n",
       "...           ...                                                ...   \n",
       "1978  3SHtxj9nRpM  here are the top 5 foods to stay away from in ...   \n",
       "1979  9eeNkQNtfxY  are you looking to improve your diet but don't...   \n",
       "1980  PdLrENnDPbA  here are five simple steps to help you create ...   \n",
       "1981  ffF45hF4NV0  chase your dreams, not excuses. stop making re...   \n",
       "1982  c956Rmjfquw  five habits of successful people. one: they se...   \n",
       "\n",
       "                     encoded_text  sentiment  is_informative  \n",
       "0     [input_ids, attention_mask]   0.370416               0  \n",
       "1     [input_ids, attention_mask]   0.573456               0  \n",
       "2     [input_ids, attention_mask]   0.313569               0  \n",
       "3     [input_ids, attention_mask]   0.088705               0  \n",
       "4     [input_ids, attention_mask]   0.600128               0  \n",
       "...                           ...        ...             ...  \n",
       "1978  [input_ids, attention_mask]   0.261021               1  \n",
       "1979  [input_ids, attention_mask]   0.421491               1  \n",
       "1980  [input_ids, attention_mask]   0.307707               1  \n",
       "1981  [input_ids, attention_mask]   0.219639               1  \n",
       "1982  [input_ids, attention_mask]   0.128367               1  \n",
       "\n",
       "[1983 rows x 5 columns]"
      ]
     },
     "execution_count": 43,
     "metadata": {},
     "output_type": "execute_result"
    }
   ],
   "source": [
    "mis_df['is_informative'] = int(False)\n",
    "info_df['is_informative'] = int(True)\n",
    "\n",
    "combined_df = pd.concat([mis_df, info_df], ignore_index=True)\n",
    "combined_df"
   ]
  },
  {
   "cell_type": "code",
   "execution_count": 45,
   "metadata": {},
   "outputs": [
    {
     "data": {
      "image/png": "[encoded data removed]",
      "text/plain": [
       "<Figure size 640x480 with 1 Axes>"
      ]
     },
     "metadata": {},
     "output_type": "display_data"
    }
   ],
   "source": [
    "import seaborn as sns\n",
    "import matplotlib.pyplot as plt\n",
    "\n",
    "palette = ['red', 'blue'] \n",
    "sns.violinplot(x = \"is_informative\", y = \"sentiment\", showmeans=True, data=combined_df, palette=palette)\n",
    "plt.xlabel('Category')\n",
    "plt.ylabel('Sentiment Score')\n",
    "plt.title('Sentiment Score Distribution by Category (Violin Plot)')\n",
    "plt.xticks(ticks=[0, 1], labels = ['Misinformative', 'Informative'])\n",
    "plt.grid(axis='y')\n",
    "plt.show()"
   ]
  },
  {
   "cell_type": "code",
   "execution_count": 47,
   "metadata": {},
   "outputs": [
    {
     "name": "stdout",
     "output_type": "stream",
     "text": [
      "T statistic: 6.0712\n",
      "p-value: 0.0000\n"
     ]
    }
   ],
   "source": [
    "import numpy as np \n",
    "from scipy import stats\n",
    "\n",
    "info_scores = combined_df[combined_df['is_informative'] == 1]['sentiment']\n",
    "mis_scores = combined_df[combined_df['is_informative'] == 0]['sentiment']\n",
    "\n",
    "t_statistic, p_value = stats.ttest_ind(info_scores, mis_scores)\n",
    "\n",
    "# Print the results\n",
    "print(f\"T statistic: {t_statistic:.4f}\")\n",
    "print(f\"p-value: {p_value:.4f}\")"
   ]
  },
  {
   "cell_type": "code",
   "execution_count": null,
   "metadata": {},
   "outputs": [],
   "source": []
  }
 ],
 "metadata": {
  "kernelspec": {
   "display_name": "base",
   "language": "python",
   "name": "python3"
  },
  "language_info": {
   "codemirror_mode": {
    "name": "ipython",
    "version": 3
   },
   "file_extension": ".py",
   "mimetype": "text/x-python",
   "name": "python",
   "nbconvert_exporter": "python",
   "pygments_lexer": "ipython3",
   "version": "3.11.7"
  },
  "orig_nbformat": 4
 },
 "nbformat": 4,
 "nbformat_minor": 2
}
