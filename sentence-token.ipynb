{
 "cells": [
  {
   "cell_type": "code",
   "execution_count": 2,
   "metadata": {},
   "outputs": [
    {
     "data": {
      "text/html": [
       "<div>\n",
       "<style scoped>\n",
       "    .dataframe tbody tr th:only-of-type {\n",
       "        vertical-align: middle;\n",
       "    }\n",
       "\n",
       "    .dataframe tbody tr th {\n",
       "        vertical-align: top;\n",
       "    }\n",
       "\n",
       "    .dataframe thead th {\n",
       "        text-align: right;\n",
       "    }\n",
       "</style>\n",
       "<table border=\"1\" class=\"dataframe\">\n",
       "  <thead>\n",
       "    <tr style=\"text-align: right;\">\n",
       "      <th></th>\n",
       "      <th>Unnamed: 0</th>\n",
       "      <th>0</th>\n",
       "    </tr>\n",
       "  </thead>\n",
       "  <tbody>\n",
       "    <tr>\n",
       "      <th>0</th>\n",
       "      <td>0</td>\n",
       "      <td>id: do8O1YxzdVg</td>\n",
       "    </tr>\n",
       "    <tr>\n",
       "      <th>1</th>\n",
       "      <td>1</td>\n",
       "      <td>if you don't like eating veggies this video is...</td>\n",
       "    </tr>\n",
       "    <tr>\n",
       "      <th>2</th>\n",
       "      <td>2</td>\n",
       "      <td>id: bpsKYwQffes</td>\n",
       "    </tr>\n",
       "    <tr>\n",
       "      <th>3</th>\n",
       "      <td>3</td>\n",
       "      <td>if you are not freezing your rice this is your...</td>\n",
       "    </tr>\n",
       "    <tr>\n",
       "      <th>4</th>\n",
       "      <td>4</td>\n",
       "      <td>id: 9RO83PiuQ-A</td>\n",
       "    </tr>\n",
       "    <tr>\n",
       "      <th>...</th>\n",
       "      <td>...</td>\n",
       "      <td>...</td>\n",
       "    </tr>\n",
       "    <tr>\n",
       "      <th>1525</th>\n",
       "      <td>1711</td>\n",
       "      <td>do you need a super simple thinner and I mean ...</td>\n",
       "    </tr>\n",
       "    <tr>\n",
       "      <th>1526</th>\n",
       "      <td>1712</td>\n",
       "      <td>id: 9r3uCzlBHIg</td>\n",
       "    </tr>\n",
       "    <tr>\n",
       "      <th>1527</th>\n",
       "      <td>1713</td>\n",
       "      <td>I'm a dietitian and a mom who does baby lead w...</td>\n",
       "    </tr>\n",
       "    <tr>\n",
       "      <th>1528</th>\n",
       "      <td>1715</td>\n",
       "      <td>id: EaOrwg8zwSk</td>\n",
       "    </tr>\n",
       "    <tr>\n",
       "      <th>1529</th>\n",
       "      <td>1716</td>\n",
       "      <td>man i think i maybe need to lose some weight h...</td>\n",
       "    </tr>\n",
       "  </tbody>\n",
       "</table>\n",
       "<p>1530 rows × 2 columns</p>\n",
       "</div>"
      ],
      "text/plain": [
       "      Unnamed: 0                                                  0\n",
       "0              0                                    id: do8O1YxzdVg\n",
       "1              1  if you don't like eating veggies this video is...\n",
       "2              2                                    id: bpsKYwQffes\n",
       "3              3  if you are not freezing your rice this is your...\n",
       "4              4                                    id: 9RO83PiuQ-A\n",
       "...          ...                                                ...\n",
       "1525        1711  do you need a super simple thinner and I mean ...\n",
       "1526        1712                                    id: 9r3uCzlBHIg\n",
       "1527        1713  I'm a dietitian and a mom who does baby lead w...\n",
       "1528        1715                                    id: EaOrwg8zwSk\n",
       "1529        1716  man i think i maybe need to lose some weight h...\n",
       "\n",
       "[1530 rows x 2 columns]"
      ]
     },
     "execution_count": 2,
     "metadata": {},
     "output_type": "execute_result"
    }
   ],
   "source": [
    "import pandas as pd\n",
    "info_transcripts = pd.read_csv('all_info_transcripts_new.csv')\n",
    "info_transcripts"
   ]
  },
  {
   "cell_type": "code",
   "execution_count": 8,
   "metadata": {},
   "outputs": [
    {
     "name": "stderr",
     "output_type": "stream",
     "text": [
      "/var/folders/vn/7fmw_31101zcswm89qywd8ph0000gn/T/ipykernel_25882/4227489067.py:12: FutureWarning: Series.__getitem__ treating keys as positions is deprecated. In a future version, integer keys will always be treated as labels (consistent with DataFrame behavior). To access a value by position, use `ser.iloc[pos]`\n",
      "  id_value = row[0].split(': ')[1] if ': ' in row[0] else None\n",
      "/var/folders/vn/7fmw_31101zcswm89qywd8ph0000gn/T/ipykernel_25882/4227489067.py:23: FutureWarning: Series.fillna with 'method' is deprecated and will raise in a future version. Use obj.ffill() or obj.bfill() instead.\n",
      "  info_transcripts['ID'] = info_transcripts['ID'].fillna(method='ffill')\n",
      "/var/folders/vn/7fmw_31101zcswm89qywd8ph0000gn/T/ipykernel_25882/4227489067.py:32: SettingWithCopyWarning: \n",
      "A value is trying to be set on a copy of a slice from a DataFrame\n",
      "\n",
      "See the caveats in the documentation: https://pandas.pydata.org/pandas-docs/stable/user_guide/indexing.html#returning-a-view-versus-a-copy\n",
      "  infotranscripts_df.rename(columns={'0': 'transcript'}, inplace=True)\n"
     ]
    },
    {
     "data": {
      "text/html": [
       "<div>\n",
       "<style scoped>\n",
       "    .dataframe tbody tr th:only-of-type {\n",
       "        vertical-align: middle;\n",
       "    }\n",
       "\n",
       "    .dataframe tbody tr th {\n",
       "        vertical-align: top;\n",
       "    }\n",
       "\n",
       "    .dataframe thead th {\n",
       "        text-align: right;\n",
       "    }\n",
       "</style>\n",
       "<table border=\"1\" class=\"dataframe\">\n",
       "  <thead>\n",
       "    <tr style=\"text-align: right;\">\n",
       "      <th></th>\n",
       "      <th>ID</th>\n",
       "      <th>transcript</th>\n",
       "    </tr>\n",
       "  </thead>\n",
       "  <tbody>\n",
       "    <tr>\n",
       "      <th>0</th>\n",
       "      <td>do8O1YxzdVg</td>\n",
       "      <td>if you don't like eating veggies this video is...</td>\n",
       "    </tr>\n",
       "    <tr>\n",
       "      <th>1</th>\n",
       "      <td>bpsKYwQffes</td>\n",
       "      <td>if you are not freezing your rice this is your...</td>\n",
       "    </tr>\n",
       "    <tr>\n",
       "      <th>2</th>\n",
       "      <td>9RO83PiuQ-A</td>\n",
       "      <td>if you don't like cooking and washing dishes b...</td>\n",
       "    </tr>\n",
       "    <tr>\n",
       "      <th>3</th>\n",
       "      <td>dI-Be4IehyQ</td>\n",
       "      <td>you've heard of sheep pan dinners but have you...</td>\n",
       "    </tr>\n",
       "    <tr>\n",
       "      <th>4</th>\n",
       "      <td>O_7ZvwhzqGg</td>\n",
       "      <td>if you like salads but hate preparing them thi...</td>\n",
       "    </tr>\n",
       "    <tr>\n",
       "      <th>...</th>\n",
       "      <td>...</td>\n",
       "      <td>...</td>\n",
       "    </tr>\n",
       "    <tr>\n",
       "      <th>760</th>\n",
       "      <td>h1HN1mUtlBE</td>\n",
       "      <td>here's what your favorite foods say about you ...</td>\n",
       "    </tr>\n",
       "    <tr>\n",
       "      <th>761</th>\n",
       "      <td>0pCBZYrGWqY</td>\n",
       "      <td>hear my thoughts on nutrition Trends and fads ...</td>\n",
       "    </tr>\n",
       "    <tr>\n",
       "      <th>762</th>\n",
       "      <td>wkvxzcQEXoE</td>\n",
       "      <td>do you need a super simple thinner and I mean ...</td>\n",
       "    </tr>\n",
       "    <tr>\n",
       "      <th>763</th>\n",
       "      <td>9r3uCzlBHIg</td>\n",
       "      <td>I'm a dietitian and a mom who does baby lead w...</td>\n",
       "    </tr>\n",
       "    <tr>\n",
       "      <th>764</th>\n",
       "      <td>EaOrwg8zwSk</td>\n",
       "      <td>man i think i maybe need to lose some weight h...</td>\n",
       "    </tr>\n",
       "  </tbody>\n",
       "</table>\n",
       "<p>765 rows × 2 columns</p>\n",
       "</div>"
      ],
      "text/plain": [
       "              ID                                         transcript\n",
       "0    do8O1YxzdVg  if you don't like eating veggies this video is...\n",
       "1    bpsKYwQffes  if you are not freezing your rice this is your...\n",
       "2    9RO83PiuQ-A  if you don't like cooking and washing dishes b...\n",
       "3    dI-Be4IehyQ  you've heard of sheep pan dinners but have you...\n",
       "4    O_7ZvwhzqGg  if you like salads but hate preparing them thi...\n",
       "..           ...                                                ...\n",
       "760  h1HN1mUtlBE  here's what your favorite foods say about you ...\n",
       "761  0pCBZYrGWqY  hear my thoughts on nutrition Trends and fads ...\n",
       "762  wkvxzcQEXoE  do you need a super simple thinner and I mean ...\n",
       "763  9r3uCzlBHIg  I'm a dietitian and a mom who does baby lead w...\n",
       "764  EaOrwg8zwSk  man i think i maybe need to lose some weight h...\n",
       "\n",
       "[765 rows x 2 columns]"
      ]
     },
     "execution_count": 8,
     "metadata": {},
     "output_type": "execute_result"
    }
   ],
   "source": [
    "# cleaning for informative transcripts\n",
    "# drop Unnamed: 0 column\n",
    "info_transcripts.drop(columns=['Unnamed: 0'], inplace=True)\n",
    "\n",
    "# Create an Id column\n",
    "ids = []\n",
    "# Iterate over the rows of the DataFrame\n",
    "for i, row in info_transcripts.iterrows():\n",
    "    # Check if the row index is even and if the row has at least one element\n",
    "    if i % 2 == 0 and len(row) > 0:\n",
    "        # Split the first element of the row by ': ' and get the second part if it exists\n",
    "        id_value = row[0].split(': ')[1] if ': ' in row[0] else None\n",
    "        # Append the ID to the list\n",
    "        ids.append(id_value)\n",
    "    else:\n",
    "        # Append None if ID is not present in the row or if it's an odd-numbered row\n",
    "        ids.append(None)\n",
    "\n",
    "# Create a new column with the extracted ID values\n",
    "info_transcripts['ID'] = ids\n",
    "\n",
    "# fill odd-numbered rows with ids\n",
    "info_transcripts['ID'] = info_transcripts['ID'].fillna(method='ffill')\n",
    "\n",
    "# Delete even-numbered rows\n",
    "infotranscripts_df = info_transcripts[~(info_transcripts.index % 2 == 0)]\n",
    "\n",
    "#  Reset the index to make it consecutive\n",
    "infotranscripts_df.reset_index(drop=True, inplace=True)\n",
    "\n",
    "# Rename the column named '0' to 'transcripts'\n",
    "infotranscripts_df.rename(columns={'0': 'transcript'}, inplace=True)\n",
    "\n",
    "#reorder columns\n",
    "infotranscripts_df = infotranscripts_df[['ID', 'transcript']]\n",
    "\n",
    "infotranscripts_df"
   ]
  },
  {
   "cell_type": "markdown",
   "metadata": {},
   "source": [
    "info_transcriptonly = infotranscripts_df['transcript']"
   ]
  },
  {
   "cell_type": "code",
   "execution_count": 9,
   "metadata": {},
   "outputs": [
    {
     "data": {
      "text/plain": [
       "0      if you don't like eating veggies this video is...\n",
       "1      if you are not freezing your rice this is your...\n",
       "2      if you don't like cooking and washing dishes b...\n",
       "3      you've heard of sheep pan dinners but have you...\n",
       "4      if you like salads but hate preparing them thi...\n",
       "                             ...                        \n",
       "760    here's what your favorite foods say about you ...\n",
       "761    hear my thoughts on nutrition Trends and fads ...\n",
       "762    do you need a super simple thinner and I mean ...\n",
       "763    I'm a dietitian and a mom who does baby lead w...\n",
       "764    man i think i maybe need to lose some weight h...\n",
       "Name: transcript, Length: 765, dtype: object"
      ]
     },
     "execution_count": 9,
     "metadata": {},
     "output_type": "execute_result"
    }
   ],
   "source": [
    "info_transcriptonly = infotranscripts_df['transcript']\n",
    "info_transcriptonly"
   ]
  },
  {
   "cell_type": "code",
   "execution_count": 10,
   "metadata": {},
   "outputs": [],
   "source": [
    "info_transcriptonly = infotranscripts_df['transcript']\n",
    "info_transcriptonly.to_csv('info_transcriptonly.csv')"
   ]
  },
  {
   "cell_type": "code",
   "execution_count": 3,
   "metadata": {},
   "outputs": [
    {
     "data": {
      "text/html": [
       "<div>\n",
       "<style scoped>\n",
       "    .dataframe tbody tr th:only-of-type {\n",
       "        vertical-align: middle;\n",
       "    }\n",
       "\n",
       "    .dataframe tbody tr th {\n",
       "        vertical-align: top;\n",
       "    }\n",
       "\n",
       "    .dataframe thead th {\n",
       "        text-align: right;\n",
       "    }\n",
       "</style>\n",
       "<table border=\"1\" class=\"dataframe\">\n",
       "  <thead>\n",
       "    <tr style=\"text-align: right;\">\n",
       "      <th></th>\n",
       "      <th>Unnamed: 0</th>\n",
       "      <th>0</th>\n",
       "    </tr>\n",
       "  </thead>\n",
       "  <tbody>\n",
       "    <tr>\n",
       "      <th>0</th>\n",
       "      <td>0</td>\n",
       "      <td>id: zqdxQWTdIM4</td>\n",
       "    </tr>\n",
       "    <tr>\n",
       "      <th>1</th>\n",
       "      <td>1</td>\n",
       "      <td>I'm going to show you the absolute best natura...</td>\n",
       "    </tr>\n",
       "    <tr>\n",
       "      <th>2</th>\n",
       "      <td>2</td>\n",
       "      <td>id: aYV9EWaiz_Y</td>\n",
       "    </tr>\n",
       "    <tr>\n",
       "      <th>3</th>\n",
       "      <td>3</td>\n",
       "      <td>I'm going to give you three tips to help you l...</td>\n",
       "    </tr>\n",
       "    <tr>\n",
       "      <th>4</th>\n",
       "      <td>4</td>\n",
       "      <td>id: G4guVvCYAEA</td>\n",
       "    </tr>\n",
       "    <tr>\n",
       "      <th>...</th>\n",
       "      <td>...</td>\n",
       "      <td>...</td>\n",
       "    </tr>\n",
       "    <tr>\n",
       "      <th>2533</th>\n",
       "      <td>2591</td>\n",
       "      <td>here are five simple steps to help you create ...</td>\n",
       "    </tr>\n",
       "    <tr>\n",
       "      <th>2534</th>\n",
       "      <td>2592</td>\n",
       "      <td>id: ffF45hF4NV0</td>\n",
       "    </tr>\n",
       "    <tr>\n",
       "      <th>2535</th>\n",
       "      <td>2593</td>\n",
       "      <td>chase your dreams not excuses stop making reas...</td>\n",
       "    </tr>\n",
       "    <tr>\n",
       "      <th>2536</th>\n",
       "      <td>2594</td>\n",
       "      <td>id: c956Rmjfquw</td>\n",
       "    </tr>\n",
       "    <tr>\n",
       "      <th>2537</th>\n",
       "      <td>2595</td>\n",
       "      <td>five habits of successful people one they set ...</td>\n",
       "    </tr>\n",
       "  </tbody>\n",
       "</table>\n",
       "<p>2538 rows × 2 columns</p>\n",
       "</div>"
      ],
      "text/plain": [
       "      Unnamed: 0                                                  0\n",
       "0              0                                    id: zqdxQWTdIM4\n",
       "1              1  I'm going to show you the absolute best natura...\n",
       "2              2                                    id: aYV9EWaiz_Y\n",
       "3              3  I'm going to give you three tips to help you l...\n",
       "4              4                                    id: G4guVvCYAEA\n",
       "...          ...                                                ...\n",
       "2533        2591  here are five simple steps to help you create ...\n",
       "2534        2592                                    id: ffF45hF4NV0\n",
       "2535        2593  chase your dreams not excuses stop making reas...\n",
       "2536        2594                                    id: c956Rmjfquw\n",
       "2537        2595  five habits of successful people one they set ...\n",
       "\n",
       "[2538 rows x 2 columns]"
      ]
     },
     "execution_count": 3,
     "metadata": {},
     "output_type": "execute_result"
    }
   ],
   "source": [
    "mis_transcripts = pd.read_csv('all_mis_transcripts_new.csv')\n",
    "mis_transcripts"
   ]
  },
  {
   "cell_type": "code",
   "execution_count": 4,
   "metadata": {},
   "outputs": [
    {
     "name": "stderr",
     "output_type": "stream",
     "text": [
      "/var/folders/vn/7fmw_31101zcswm89qywd8ph0000gn/T/ipykernel_25882/2117037906.py:12: FutureWarning: Series.__getitem__ treating keys as positions is deprecated. In a future version, integer keys will always be treated as labels (consistent with DataFrame behavior). To access a value by position, use `ser.iloc[pos]`\n",
      "  id_value = row[0].split(': ')[1] if ': ' in row[0] else None\n",
      "/var/folders/vn/7fmw_31101zcswm89qywd8ph0000gn/T/ipykernel_25882/2117037906.py:23: FutureWarning: Series.fillna with 'method' is deprecated and will raise in a future version. Use obj.ffill() or obj.bfill() instead.\n",
      "  mis_transcripts['ID'] = mis_transcripts['ID'].fillna(method='ffill')\n",
      "/var/folders/vn/7fmw_31101zcswm89qywd8ph0000gn/T/ipykernel_25882/2117037906.py:32: SettingWithCopyWarning: \n",
      "A value is trying to be set on a copy of a slice from a DataFrame\n",
      "\n",
      "See the caveats in the documentation: https://pandas.pydata.org/pandas-docs/stable/user_guide/indexing.html#returning-a-view-versus-a-copy\n",
      "  misinfotranscripts_df.rename(columns={'0': 'transcript'}, inplace=True)\n"
     ]
    },
    {
     "data": {
      "text/html": [
       "<div>\n",
       "<style scoped>\n",
       "    .dataframe tbody tr th:only-of-type {\n",
       "        vertical-align: middle;\n",
       "    }\n",
       "\n",
       "    .dataframe tbody tr th {\n",
       "        vertical-align: top;\n",
       "    }\n",
       "\n",
       "    .dataframe thead th {\n",
       "        text-align: right;\n",
       "    }\n",
       "</style>\n",
       "<table border=\"1\" class=\"dataframe\">\n",
       "  <thead>\n",
       "    <tr style=\"text-align: right;\">\n",
       "      <th></th>\n",
       "      <th>ID</th>\n",
       "      <th>transcript</th>\n",
       "    </tr>\n",
       "  </thead>\n",
       "  <tbody>\n",
       "    <tr>\n",
       "      <th>0</th>\n",
       "      <td>zqdxQWTdIM4</td>\n",
       "      <td>I'm going to show you the absolute best natura...</td>\n",
       "    </tr>\n",
       "    <tr>\n",
       "      <th>1</th>\n",
       "      <td>aYV9EWaiz_Y</td>\n",
       "      <td>I'm going to give you three tips to help you l...</td>\n",
       "    </tr>\n",
       "    <tr>\n",
       "      <th>2</th>\n",
       "      <td>G4guVvCYAEA</td>\n",
       "      <td>the absolute number one most inflammatory food...</td>\n",
       "    </tr>\n",
       "    <tr>\n",
       "      <th>3</th>\n",
       "      <td>u0-U3-f4VHM</td>\n",
       "      <td>you know if you went to your kitchen right now...</td>\n",
       "    </tr>\n",
       "    <tr>\n",
       "      <th>4</th>\n",
       "      <td>llDg68l626M</td>\n",
       "      <td>all right we're at our favorite restaurant KFC...</td>\n",
       "    </tr>\n",
       "    <tr>\n",
       "      <th>...</th>\n",
       "      <td>...</td>\n",
       "      <td>...</td>\n",
       "    </tr>\n",
       "    <tr>\n",
       "      <th>1264</th>\n",
       "      <td>3SHtxj9nRpM</td>\n",
       "      <td>here are the top 5 foods to stay away from in ...</td>\n",
       "    </tr>\n",
       "    <tr>\n",
       "      <th>1265</th>\n",
       "      <td>9eeNkQNtfxY</td>\n",
       "      <td>are you looking to improve your diet but don't...</td>\n",
       "    </tr>\n",
       "    <tr>\n",
       "      <th>1266</th>\n",
       "      <td>PdLrENnDPbA</td>\n",
       "      <td>here are five simple steps to help you create ...</td>\n",
       "    </tr>\n",
       "    <tr>\n",
       "      <th>1267</th>\n",
       "      <td>ffF45hF4NV0</td>\n",
       "      <td>chase your dreams not excuses stop making reas...</td>\n",
       "    </tr>\n",
       "    <tr>\n",
       "      <th>1268</th>\n",
       "      <td>c956Rmjfquw</td>\n",
       "      <td>five habits of successful people one they set ...</td>\n",
       "    </tr>\n",
       "  </tbody>\n",
       "</table>\n",
       "<p>1269 rows × 2 columns</p>\n",
       "</div>"
      ],
      "text/plain": [
       "               ID                                         transcript\n",
       "0     zqdxQWTdIM4  I'm going to show you the absolute best natura...\n",
       "1     aYV9EWaiz_Y  I'm going to give you three tips to help you l...\n",
       "2     G4guVvCYAEA  the absolute number one most inflammatory food...\n",
       "3     u0-U3-f4VHM  you know if you went to your kitchen right now...\n",
       "4     llDg68l626M  all right we're at our favorite restaurant KFC...\n",
       "...           ...                                                ...\n",
       "1264  3SHtxj9nRpM  here are the top 5 foods to stay away from in ...\n",
       "1265  9eeNkQNtfxY  are you looking to improve your diet but don't...\n",
       "1266  PdLrENnDPbA  here are five simple steps to help you create ...\n",
       "1267  ffF45hF4NV0  chase your dreams not excuses stop making reas...\n",
       "1268  c956Rmjfquw  five habits of successful people one they set ...\n",
       "\n",
       "[1269 rows x 2 columns]"
      ]
     },
     "execution_count": 4,
     "metadata": {},
     "output_type": "execute_result"
    }
   ],
   "source": [
    "# cleaning for informative transcripts\n",
    "# drop Unnamed: 0 column\n",
    "mis_transcripts.drop(columns=['Unnamed: 0'], inplace=True)\n",
    "\n",
    "# Create an Id column\n",
    "ids = []\n",
    "# Iterate over the rows of the DataFrame\n",
    "for i, row in mis_transcripts.iterrows():\n",
    "    # Check if the row index is even and if the row has at least one element\n",
    "    if i % 2 == 0 and len(row) > 0:\n",
    "        # Split the first element of the row by ': ' and get the second part if it exists\n",
    "        id_value = row[0].split(': ')[1] if ': ' in row[0] else None\n",
    "        # Append the ID to the list\n",
    "        ids.append(id_value)\n",
    "    else:\n",
    "        # Append None if ID is not present in the row or if it's an odd-numbered row\n",
    "        ids.append(None)\n",
    "\n",
    "# Create a new column with the extracted ID values\n",
    "mis_transcripts['ID'] = ids\n",
    "\n",
    "# fill odd-numbered rows with ids\n",
    "mis_transcripts['ID'] = mis_transcripts['ID'].fillna(method='ffill')\n",
    "\n",
    "# Delete even-numbered rows\n",
    "misinfotranscripts_df = mis_transcripts[~(mis_transcripts.index % 2 == 0)]\n",
    "\n",
    "#  Reset the index to make it consecutive\n",
    "misinfotranscripts_df.reset_index(drop=True, inplace=True)\n",
    "\n",
    "# Rename the column named '0' to 'transcripts'\n",
    "misinfotranscripts_df.rename(columns={'0': 'transcript'}, inplace=True)\n",
    "\n",
    "#reorder columns\n",
    "misinfotranscripts_df = misinfotranscripts_df[['ID', 'transcript']]\n",
    "\n",
    "misinfotranscripts_df"
   ]
  },
  {
   "cell_type": "code",
   "execution_count": 5,
   "metadata": {},
   "outputs": [
    {
     "data": {
      "text/plain": [
       "0       I'm going to show you the absolute best natura...\n",
       "1       I'm going to give you three tips to help you l...\n",
       "2       the absolute number one most inflammatory food...\n",
       "3       you know if you went to your kitchen right now...\n",
       "4       all right we're at our favorite restaurant KFC...\n",
       "                              ...                        \n",
       "1264    here are the top 5 foods to stay away from in ...\n",
       "1265    are you looking to improve your diet but don't...\n",
       "1266    here are five simple steps to help you create ...\n",
       "1267    chase your dreams not excuses stop making reas...\n",
       "1268    five habits of successful people one they set ...\n",
       "Name: transcript, Length: 1269, dtype: object"
      ]
     },
     "execution_count": 5,
     "metadata": {},
     "output_type": "execute_result"
    }
   ],
   "source": [
    "misinfo_transcriptonly = misinfotranscripts_df['transcript']\n",
    "misinfo_transcriptonly"
   ]
  },
  {
   "cell_type": "code",
   "execution_count": 6,
   "metadata": {},
   "outputs": [],
   "source": [
    "misinfo_transcriptonly.to_csv('misinfo_transcriptonly.csv')"
   ]
  },
  {
   "cell_type": "code",
   "execution_count": 11,
   "metadata": {},
   "outputs": [
    {
     "name": "stderr",
     "output_type": "stream",
     "text": [
      "The model 'XLMRobertaForTokenClassification' is not supported for text2text-generation. Supported models are ['BartForConditionalGeneration', 'BigBirdPegasusForConditionalGeneration', 'BlenderbotForConditionalGeneration', 'BlenderbotSmallForConditionalGeneration', 'EncoderDecoderModel', 'FSMTForConditionalGeneration', 'GPTSanJapaneseForConditionalGeneration', 'LEDForConditionalGeneration', 'LongT5ForConditionalGeneration', 'M2M100ForConditionalGeneration', 'MarianMTModel', 'MBartForConditionalGeneration', 'MT5ForConditionalGeneration', 'MvpForConditionalGeneration', 'NllbMoeForConditionalGeneration', 'PegasusForConditionalGeneration', 'PegasusXForConditionalGeneration', 'PLBartForConditionalGeneration', 'ProphetNetForConditionalGeneration', 'SeamlessM4TForTextToText', 'SeamlessM4Tv2ForTextToText', 'SwitchTransformersForConditionalGeneration', 'T5ForConditionalGeneration', 'UMT5ForConditionalGeneration', 'XLMProphetNetForConditionalGeneration'].\n"
     ]
    },
    {
     "ename": "TypeError",
     "evalue": "The current model class (XLMRobertaForTokenClassification) is not compatible with `.generate()`, as it doesn't have a language model head. Please use one of the following classes instead: {'XLMRobertaForCausalLM'}",
     "output_type": "error",
     "traceback": [
      "\u001b[0;31m---------------------------------------------------------------------------\u001b[0m",
      "\u001b[0;31mTypeError\u001b[0m                                 Traceback (most recent call last)",
      "Cell \u001b[0;32mIn[11], line 6\u001b[0m\n\u001b[1;32m      4\u001b[0m     \u001b[39mreturn\u001b[39;00m punctuator(text, max_length\u001b[39m=\u001b[39m\u001b[39mlen\u001b[39m(text\u001b[39m.\u001b[39msplit()) \u001b[39m+\u001b[39m \u001b[39m10\u001b[39m)[\u001b[39m0\u001b[39m][\u001b[39m'\u001b[39m\u001b[39mgenerated_text\u001b[39m\u001b[39m'\u001b[39m]\n\u001b[1;32m      5\u001b[0m sample_text \u001b[39m=\u001b[39m misinfotranscripts_df[\u001b[39m'\u001b[39m\u001b[39mtranscript\u001b[39m\u001b[39m'\u001b[39m]\u001b[39m.\u001b[39miloc[\u001b[39m0\u001b[39m]\n\u001b[0;32m----> 6\u001b[0m punctuated_text \u001b[39m=\u001b[39m add_punctuation(sample_text)\n\u001b[1;32m      7\u001b[0m punctuated_text\n",
      "Cell \u001b[0;32mIn[11], line 4\u001b[0m, in \u001b[0;36madd_punctuation\u001b[0;34m(text)\u001b[0m\n\u001b[1;32m      3\u001b[0m \u001b[39mdef\u001b[39;00m \u001b[39madd_punctuation\u001b[39m(text):\n\u001b[0;32m----> 4\u001b[0m     \u001b[39mreturn\u001b[39;00m punctuator(text, max_length\u001b[39m=\u001b[39m\u001b[39mlen\u001b[39m(text\u001b[39m.\u001b[39msplit()) \u001b[39m+\u001b[39m \u001b[39m10\u001b[39m)[\u001b[39m0\u001b[39m][\u001b[39m'\u001b[39m\u001b[39mgenerated_text\u001b[39m\u001b[39m'\u001b[39m]\n",
      "File \u001b[0;32m/opt/anaconda3/lib/python3.11/site-packages/transformers/pipelines/text2text_generation.py:167\u001b[0m, in \u001b[0;36mText2TextGenerationPipeline.__call__\u001b[0;34m(self, *args, **kwargs)\u001b[0m\n\u001b[1;32m    138\u001b[0m \u001b[39mdef\u001b[39;00m \u001b[39m__call__\u001b[39m(\u001b[39mself\u001b[39m, \u001b[39m*\u001b[39margs, \u001b[39m*\u001b[39m\u001b[39m*\u001b[39mkwargs):\n\u001b[1;32m    139\u001b[0m \u001b[39m    \u001b[39m\u001b[39mr\u001b[39m\u001b[39m\"\"\"\u001b[39;00m\n\u001b[1;32m    140\u001b[0m \u001b[39m    Generate the output text(s) using text(s) given as inputs.\u001b[39;00m\n\u001b[1;32m    141\u001b[0m \n\u001b[0;32m   (...)\u001b[0m\n\u001b[1;32m    164\u001b[0m \u001b[39m          ids of the generated text.\u001b[39;00m\n\u001b[1;32m    165\u001b[0m \u001b[39m    \"\"\"\u001b[39;00m\n\u001b[0;32m--> 167\u001b[0m     result \u001b[39m=\u001b[39m \u001b[39msuper\u001b[39m()\u001b[39m.\u001b[39m\u001b[39m__call__\u001b[39m(\u001b[39m*\u001b[39margs, \u001b[39m*\u001b[39m\u001b[39m*\u001b[39mkwargs)\n\u001b[1;32m    168\u001b[0m     \u001b[39mif\u001b[39;00m (\n\u001b[1;32m    169\u001b[0m         \u001b[39misinstance\u001b[39m(args[\u001b[39m0\u001b[39m], \u001b[39mlist\u001b[39m)\n\u001b[1;32m    170\u001b[0m         \u001b[39mand\u001b[39;00m \u001b[39mall\u001b[39m(\u001b[39misinstance\u001b[39m(el, \u001b[39mstr\u001b[39m) \u001b[39mfor\u001b[39;00m el \u001b[39min\u001b[39;00m args[\u001b[39m0\u001b[39m])\n\u001b[1;32m    171\u001b[0m         \u001b[39mand\u001b[39;00m \u001b[39mall\u001b[39m(\u001b[39mlen\u001b[39m(res) \u001b[39m==\u001b[39m \u001b[39m1\u001b[39m \u001b[39mfor\u001b[39;00m res \u001b[39min\u001b[39;00m result)\n\u001b[1;32m    172\u001b[0m     ):\n\u001b[1;32m    173\u001b[0m         \u001b[39mreturn\u001b[39;00m [res[\u001b[39m0\u001b[39m] \u001b[39mfor\u001b[39;00m res \u001b[39min\u001b[39;00m result]\n",
      "File \u001b[0;32m/opt/anaconda3/lib/python3.11/site-packages/transformers/pipelines/base.py:1242\u001b[0m, in \u001b[0;36mPipeline.__call__\u001b[0;34m(self, inputs, num_workers, batch_size, *args, **kwargs)\u001b[0m\n\u001b[1;32m   1234\u001b[0m     \u001b[39mreturn\u001b[39;00m \u001b[39mnext\u001b[39m(\n\u001b[1;32m   1235\u001b[0m         \u001b[39miter\u001b[39m(\n\u001b[1;32m   1236\u001b[0m             \u001b[39mself\u001b[39m\u001b[39m.\u001b[39mget_iterator(\n\u001b[0;32m   (...)\u001b[0m\n\u001b[1;32m   1239\u001b[0m         )\n\u001b[1;32m   1240\u001b[0m     )\n\u001b[1;32m   1241\u001b[0m \u001b[39melse\u001b[39;00m:\n\u001b[0;32m-> 1242\u001b[0m     \u001b[39mreturn\u001b[39;00m \u001b[39mself\u001b[39m\u001b[39m.\u001b[39mrun_single(inputs, preprocess_params, forward_params, postprocess_params)\n",
      "File \u001b[0;32m/opt/anaconda3/lib/python3.11/site-packages/transformers/pipelines/base.py:1249\u001b[0m, in \u001b[0;36mPipeline.run_single\u001b[0;34m(self, inputs, preprocess_params, forward_params, postprocess_params)\u001b[0m\n\u001b[1;32m   1247\u001b[0m \u001b[39mdef\u001b[39;00m \u001b[39mrun_single\u001b[39m(\u001b[39mself\u001b[39m, inputs, preprocess_params, forward_params, postprocess_params):\n\u001b[1;32m   1248\u001b[0m     model_inputs \u001b[39m=\u001b[39m \u001b[39mself\u001b[39m\u001b[39m.\u001b[39mpreprocess(inputs, \u001b[39m*\u001b[39m\u001b[39m*\u001b[39mpreprocess_params)\n\u001b[0;32m-> 1249\u001b[0m     model_outputs \u001b[39m=\u001b[39m \u001b[39mself\u001b[39m\u001b[39m.\u001b[39mforward(model_inputs, \u001b[39m*\u001b[39m\u001b[39m*\u001b[39mforward_params)\n\u001b[1;32m   1250\u001b[0m     outputs \u001b[39m=\u001b[39m \u001b[39mself\u001b[39m\u001b[39m.\u001b[39mpostprocess(model_outputs, \u001b[39m*\u001b[39m\u001b[39m*\u001b[39mpostprocess_params)\n\u001b[1;32m   1251\u001b[0m     \u001b[39mreturn\u001b[39;00m outputs\n",
      "File \u001b[0;32m/opt/anaconda3/lib/python3.11/site-packages/transformers/pipelines/base.py:1149\u001b[0m, in \u001b[0;36mPipeline.forward\u001b[0;34m(self, model_inputs, **forward_params)\u001b[0m\n\u001b[1;32m   1147\u001b[0m     \u001b[39mwith\u001b[39;00m inference_context():\n\u001b[1;32m   1148\u001b[0m         model_inputs \u001b[39m=\u001b[39m \u001b[39mself\u001b[39m\u001b[39m.\u001b[39m_ensure_tensor_on_device(model_inputs, device\u001b[39m=\u001b[39m\u001b[39mself\u001b[39m\u001b[39m.\u001b[39mdevice)\n\u001b[0;32m-> 1149\u001b[0m         model_outputs \u001b[39m=\u001b[39m \u001b[39mself\u001b[39m\u001b[39m.\u001b[39m_forward(model_inputs, \u001b[39m*\u001b[39m\u001b[39m*\u001b[39mforward_params)\n\u001b[1;32m   1150\u001b[0m         model_outputs \u001b[39m=\u001b[39m \u001b[39mself\u001b[39m\u001b[39m.\u001b[39m_ensure_tensor_on_device(model_outputs, device\u001b[39m=\u001b[39mtorch\u001b[39m.\u001b[39mdevice(\u001b[39m\"\u001b[39m\u001b[39mcpu\u001b[39m\u001b[39m\"\u001b[39m))\n\u001b[1;32m   1151\u001b[0m \u001b[39melse\u001b[39;00m:\n",
      "File \u001b[0;32m/opt/anaconda3/lib/python3.11/site-packages/transformers/pipelines/text2text_generation.py:191\u001b[0m, in \u001b[0;36mText2TextGenerationPipeline._forward\u001b[0;34m(self, model_inputs, **generate_kwargs)\u001b[0m\n\u001b[1;32m    184\u001b[0m     in_b, input_length \u001b[39m=\u001b[39m tf\u001b[39m.\u001b[39mshape(model_inputs[\u001b[39m\"\u001b[39m\u001b[39minput_ids\u001b[39m\u001b[39m\"\u001b[39m])\u001b[39m.\u001b[39mnumpy()\n\u001b[1;32m    186\u001b[0m \u001b[39mself\u001b[39m\u001b[39m.\u001b[39mcheck_inputs(\n\u001b[1;32m    187\u001b[0m     input_length,\n\u001b[1;32m    188\u001b[0m     generate_kwargs\u001b[39m.\u001b[39mget(\u001b[39m\"\u001b[39m\u001b[39mmin_length\u001b[39m\u001b[39m\"\u001b[39m, \u001b[39mself\u001b[39m\u001b[39m.\u001b[39mmodel\u001b[39m.\u001b[39mconfig\u001b[39m.\u001b[39mmin_length),\n\u001b[1;32m    189\u001b[0m     generate_kwargs\u001b[39m.\u001b[39mget(\u001b[39m\"\u001b[39m\u001b[39mmax_length\u001b[39m\u001b[39m\"\u001b[39m, \u001b[39mself\u001b[39m\u001b[39m.\u001b[39mmodel\u001b[39m.\u001b[39mconfig\u001b[39m.\u001b[39mmax_length),\n\u001b[1;32m    190\u001b[0m )\n\u001b[0;32m--> 191\u001b[0m output_ids \u001b[39m=\u001b[39m \u001b[39mself\u001b[39m\u001b[39m.\u001b[39mmodel\u001b[39m.\u001b[39mgenerate(\u001b[39m*\u001b[39m\u001b[39m*\u001b[39mmodel_inputs, \u001b[39m*\u001b[39m\u001b[39m*\u001b[39mgenerate_kwargs)\n\u001b[1;32m    192\u001b[0m out_b \u001b[39m=\u001b[39m output_ids\u001b[39m.\u001b[39mshape[\u001b[39m0\u001b[39m]\n\u001b[1;32m    193\u001b[0m \u001b[39mif\u001b[39;00m \u001b[39mself\u001b[39m\u001b[39m.\u001b[39mframework \u001b[39m==\u001b[39m \u001b[39m\"\u001b[39m\u001b[39mpt\u001b[39m\u001b[39m\"\u001b[39m:\n",
      "File \u001b[0;32m/opt/anaconda3/lib/python3.11/site-packages/torch/utils/_contextlib.py:115\u001b[0m, in \u001b[0;36mcontext_decorator.<locals>.decorate_context\u001b[0;34m(*args, **kwargs)\u001b[0m\n\u001b[1;32m    112\u001b[0m \u001b[39m@functools\u001b[39m\u001b[39m.\u001b[39mwraps(func)\n\u001b[1;32m    113\u001b[0m \u001b[39mdef\u001b[39;00m \u001b[39mdecorate_context\u001b[39m(\u001b[39m*\u001b[39margs, \u001b[39m*\u001b[39m\u001b[39m*\u001b[39mkwargs):\n\u001b[1;32m    114\u001b[0m     \u001b[39mwith\u001b[39;00m ctx_factory():\n\u001b[0;32m--> 115\u001b[0m         \u001b[39mreturn\u001b[39;00m func(\u001b[39m*\u001b[39margs, \u001b[39m*\u001b[39m\u001b[39m*\u001b[39mkwargs)\n",
      "File \u001b[0;32m/opt/anaconda3/lib/python3.11/site-packages/transformers/generation/utils.py:1382\u001b[0m, in \u001b[0;36mGenerationMixin.generate\u001b[0;34m(self, inputs, generation_config, logits_processor, stopping_criteria, prefix_allowed_tokens_fn, synced_gpus, assistant_model, streamer, negative_prompt_ids, negative_prompt_attention_mask, **kwargs)\u001b[0m\n\u001b[1;32m   1298\u001b[0m \u001b[39m\u001b[39m\u001b[39mr\u001b[39m\u001b[39m\"\"\"\u001b[39;00m\n\u001b[1;32m   1299\u001b[0m \n\u001b[1;32m   1300\u001b[0m \u001b[39mGenerates sequences of token ids for models with a language modeling head.\u001b[39;00m\n\u001b[0;32m   (...)\u001b[0m\n\u001b[1;32m   1379\u001b[0m \u001b[39m            - [`~generation.GenerateBeamEncoderDecoderOutput`]\u001b[39;00m\n\u001b[1;32m   1380\u001b[0m \u001b[39m\"\"\"\u001b[39;00m\n\u001b[1;32m   1381\u001b[0m \u001b[39m# 1. Handle `generation_config` and kwargs that might update it, and validate the `.generate()` call\u001b[39;00m\n\u001b[0;32m-> 1382\u001b[0m \u001b[39mself\u001b[39m\u001b[39m.\u001b[39m_validate_model_class()\n\u001b[1;32m   1383\u001b[0m generation_config, model_kwargs \u001b[39m=\u001b[39m \u001b[39mself\u001b[39m\u001b[39m.\u001b[39m_prepare_generation_config(generation_config, \u001b[39m*\u001b[39m\u001b[39m*\u001b[39mkwargs)\n\u001b[1;32m   1384\u001b[0m \u001b[39mself\u001b[39m\u001b[39m.\u001b[39m_validate_model_kwargs(model_kwargs\u001b[39m.\u001b[39mcopy())\n",
      "File \u001b[0;32m/opt/anaconda3/lib/python3.11/site-packages/transformers/generation/utils.py:1073\u001b[0m, in \u001b[0;36mGenerationMixin._validate_model_class\u001b[0;34m(self)\u001b[0m\n\u001b[1;32m   1071\u001b[0m \u001b[39mif\u001b[39;00m generate_compatible_classes:\n\u001b[1;32m   1072\u001b[0m     exception_message \u001b[39m+\u001b[39m\u001b[39m=\u001b[39m \u001b[39mf\u001b[39m\u001b[39m\"\u001b[39m\u001b[39m Please use one of the following classes instead: \u001b[39m\u001b[39m{\u001b[39;00mgenerate_compatible_classes\u001b[39m}\u001b[39;00m\u001b[39m\"\u001b[39m\n\u001b[0;32m-> 1073\u001b[0m \u001b[39mraise\u001b[39;00m \u001b[39mTypeError\u001b[39;00m(exception_message)\n",
      "\u001b[0;31mTypeError\u001b[0m: The current model class (XLMRobertaForTokenClassification) is not compatible with `.generate()`, as it doesn't have a language model head. Please use one of the following classes instead: {'XLMRobertaForCausalLM'}"
     ]
    }
   ],
   "source": [
    "from transformers import pipeline\n",
    "punctuator = pipeline('text2text-generation', model='oliverguhr/fullstop-punctuation-multilang-large')\n",
    "def add_punctuation(text):\n",
    "    return punctuator(text, max_length=len(text.split()) + 10)[0]['generated_text']\n",
    "sample_text = misinfotranscripts_df['transcript'].iloc[0]\n",
    "punctuated_text = add_punctuation(sample_text)\n",
    "punctuated_text"
   ]
  },
  {
   "cell_type": "code",
   "execution_count": 12,
   "metadata": {},
   "outputs": [
    {
     "data": {
      "application/vnd.jupyter.widget-view+json": {
       "model_id": "0b05827806ce4ec080ef2645e569dcd4",
       "version_major": 2,
       "version_minor": 0
      },
      "text/plain": [
       "config.json:   0%|          | 0.00/1.21k [00:00<?, ?B/s]"
      ]
     },
     "metadata": {},
     "output_type": "display_data"
    },
    {
     "name": "stderr",
     "output_type": "stream",
     "text": [
      "huggingface/tokenizers: The current process just got forked, after parallelism has already been used. Disabling parallelism to avoid deadlocks...\n",
      "To disable this warning, you can either:\n",
      "\t- Avoid using `tokenizers` before the fork if possible\n",
      "\t- Explicitly set the environment variable TOKENIZERS_PARALLELISM=(true | false)\n"
     ]
    },
    {
     "data": {
      "application/vnd.jupyter.widget-view+json": {
       "model_id": "c7e0d6d83b864ea4b75b733b23c07939",
       "version_major": 2,
       "version_minor": 0
      },
      "text/plain": [
       "model.safetensors:   0%|          | 0.00/242M [00:00<?, ?B/s]"
      ]
     },
     "metadata": {},
     "output_type": "display_data"
    },
    {
     "data": {
      "application/vnd.jupyter.widget-view+json": {
       "model_id": "bce79d7afa854a8c9b2eeefe2e96cfe9",
       "version_major": 2,
       "version_minor": 0
      },
      "text/plain": [
       "generation_config.json:   0%|          | 0.00/147 [00:00<?, ?B/s]"
      ]
     },
     "metadata": {},
     "output_type": "display_data"
    },
    {
     "data": {
      "application/vnd.jupyter.widget-view+json": {
       "model_id": "ecfbaad10c7e43f295440d8c8c76c74b",
       "version_major": 2,
       "version_minor": 0
      },
      "text/plain": [
       "tokenizer_config.json:   0%|          | 0.00/2.32k [00:00<?, ?B/s]"
      ]
     },
     "metadata": {},
     "output_type": "display_data"
    },
    {
     "data": {
      "application/vnd.jupyter.widget-view+json": {
       "model_id": "be8ab18e9bfe4479a00a2e67a33cc498",
       "version_major": 2,
       "version_minor": 0
      },
      "text/plain": [
       "spiece.model:   0%|          | 0.00/792k [00:00<?, ?B/s]"
      ]
     },
     "metadata": {},
     "output_type": "display_data"
    },
    {
     "data": {
      "application/vnd.jupyter.widget-view+json": {
       "model_id": "24625f1916f742319c5b59d54586b007",
       "version_major": 2,
       "version_minor": 0
      },
      "text/plain": [
       "tokenizer.json:   0%|          | 0.00/1.39M [00:00<?, ?B/s]"
      ]
     },
     "metadata": {},
     "output_type": "display_data"
    },
    {
     "name": "stdout",
     "output_type": "stream",
     "text": [
      "you'd want to take 100 to 150 migrs three to six times a day if you're deficient in NAD you get low carage repair you get inflammation you get fatigue you age faster you have more damage in your DNA and you develop a poor immune system . n a NAD is actually a version of vitamin B3 you need to take 100 to 150 migrs three to six times a day .\n"
     ]
    }
   ],
   "source": [
    "from transformers import pipeline\n",
    "\n",
    "# Choose a model that supports text generation\n",
    "punctuator = pipeline('text2text-generation', model='t5-small')\n",
    "\n",
    "def add_punctuation(text):\n",
    "    return punctuator(text, max_length=len(text.split()) + 10)[0]['generated_text']\n",
    "\n",
    "# Example usage\n",
    "sample_text = misinfotranscripts_df['transcript'].iloc[0]\n",
    "punctuated_text = add_punctuation(sample_text)\n",
    "print(punctuated_text)"
   ]
  },
  {
   "cell_type": "code",
   "execution_count": 13,
   "metadata": {},
   "outputs": [
    {
     "name": "stderr",
     "output_type": "stream",
     "text": [
      "/opt/anaconda3/lib/python3.11/site-packages/transformers/pipelines/token_classification.py:168: UserWarning: `grouped_entities` is deprecated and will be removed in version v5.0.0, defaulted to `aggregation_strategy=\"AggregationStrategy.NONE\"` instead.\n",
      "  warnings.warn(\n"
     ]
    },
    {
     "name": "stdout",
     "output_type": "stream",
     "text": [
      "I'm going to show you the absolute best natural vitamin for arthritis, and it's not vitamin D. I took this for a different purpose and then I woke up and I'm like: why is my neck so loose? normally it's stiff from all the injuries. so this nutrient is a precursor to Something in the cells called n a. NAD is kind of like a helper molecule that helps you turn food into energy. if you're deficient in NAD, you get low carage repair, you get inflammation, you get joint pain, you get fatigue, you age faster, you have more damage in your DNA and you develop a poor immune system. the precursor for NAD that you need to take is called ni acetamide. this is actually a version of vitamin B3. you'd want to take 100 to 150 migrs three to six times a day. it's much better to space it out through the day than to take a large amount all at once. make sure you have sufficient protein in no alcohol and watch your arthritis vanish. to see the complete video on this, go to my YouTube channel.\n"
     ]
    }
   ],
   "source": [
    "# pip install deepmultilingualpunctuation\n",
    "from deepmultilingualpunctuation import PunctuationModel\n",
    "\n",
    "model = PunctuationModel()\n",
    "text = misinfotranscripts_df['transcript'].iloc[0]\n",
    "result = model.restore_punctuation(text)\n",
    "print(result)"
   ]
  },
  {
   "cell_type": "code",
   "execution_count": 15,
   "metadata": {},
   "outputs": [
    {
     "name": "stderr",
     "output_type": "stream",
     "text": [
      "/opt/anaconda3/lib/python3.11/site-packages/transformers/pipelines/token_classification.py:168: UserWarning: `grouped_entities` is deprecated and will be removed in version v5.0.0, defaulted to `aggregation_strategy=\"AggregationStrategy.NONE\"` instead.\n",
      "  warnings.warn(\n"
     ]
    },
    {
     "data": {
      "text/html": [
       "<div>\n",
       "<style scoped>\n",
       "    .dataframe tbody tr th:only-of-type {\n",
       "        vertical-align: middle;\n",
       "    }\n",
       "\n",
       "    .dataframe tbody tr th {\n",
       "        vertical-align: top;\n",
       "    }\n",
       "\n",
       "    .dataframe thead th {\n",
       "        text-align: right;\n",
       "    }\n",
       "</style>\n",
       "<table border=\"1\" class=\"dataframe\">\n",
       "  <thead>\n",
       "    <tr style=\"text-align: right;\">\n",
       "      <th></th>\n",
       "      <th>ID</th>\n",
       "      <th>transcript_with_punctuation</th>\n",
       "    </tr>\n",
       "  </thead>\n",
       "  <tbody>\n",
       "    <tr>\n",
       "      <th>0</th>\n",
       "      <td>zqdxQWTdIM4</td>\n",
       "      <td>I'm going to show you the absolute best natura...</td>\n",
       "    </tr>\n",
       "    <tr>\n",
       "      <th>1</th>\n",
       "      <td>aYV9EWaiz_Y</td>\n",
       "      <td>I'm going to give you three tips to help you l...</td>\n",
       "    </tr>\n",
       "    <tr>\n",
       "      <th>2</th>\n",
       "      <td>G4guVvCYAEA</td>\n",
       "      <td>the absolute number one most inflammatory food...</td>\n",
       "    </tr>\n",
       "    <tr>\n",
       "      <th>3</th>\n",
       "      <td>u0-U3-f4VHM</td>\n",
       "      <td>you know, if you went to your kitchen right no...</td>\n",
       "    </tr>\n",
       "    <tr>\n",
       "      <th>4</th>\n",
       "      <td>llDg68l626M</td>\n",
       "      <td>all right, we're at our favorite restaurant, K...</td>\n",
       "    </tr>\n",
       "    <tr>\n",
       "      <th>...</th>\n",
       "      <td>...</td>\n",
       "      <td>...</td>\n",
       "    </tr>\n",
       "    <tr>\n",
       "      <th>1264</th>\n",
       "      <td>3SHtxj9nRpM</td>\n",
       "      <td>here are the top 5 foods to stay away from in ...</td>\n",
       "    </tr>\n",
       "    <tr>\n",
       "      <th>1265</th>\n",
       "      <td>9eeNkQNtfxY</td>\n",
       "      <td>are you looking to improve your diet but don't...</td>\n",
       "    </tr>\n",
       "    <tr>\n",
       "      <th>1266</th>\n",
       "      <td>PdLrENnDPbA</td>\n",
       "      <td>here are five simple steps to help you create ...</td>\n",
       "    </tr>\n",
       "    <tr>\n",
       "      <th>1267</th>\n",
       "      <td>ffF45hF4NV0</td>\n",
       "      <td>chase your dreams, not excuses. stop making re...</td>\n",
       "    </tr>\n",
       "    <tr>\n",
       "      <th>1268</th>\n",
       "      <td>c956Rmjfquw</td>\n",
       "      <td>five habits of successful people. one: they se...</td>\n",
       "    </tr>\n",
       "  </tbody>\n",
       "</table>\n",
       "<p>1269 rows × 2 columns</p>\n",
       "</div>"
      ],
      "text/plain": [
       "               ID                        transcript_with_punctuation\n",
       "0     zqdxQWTdIM4  I'm going to show you the absolute best natura...\n",
       "1     aYV9EWaiz_Y  I'm going to give you three tips to help you l...\n",
       "2     G4guVvCYAEA  the absolute number one most inflammatory food...\n",
       "3     u0-U3-f4VHM  you know, if you went to your kitchen right no...\n",
       "4     llDg68l626M  all right, we're at our favorite restaurant, K...\n",
       "...           ...                                                ...\n",
       "1264  3SHtxj9nRpM  here are the top 5 foods to stay away from in ...\n",
       "1265  9eeNkQNtfxY  are you looking to improve your diet but don't...\n",
       "1266  PdLrENnDPbA  here are five simple steps to help you create ...\n",
       "1267  ffF45hF4NV0  chase your dreams, not excuses. stop making re...\n",
       "1268  c956Rmjfquw  five habits of successful people. one: they se...\n",
       "\n",
       "[1269 rows x 2 columns]"
      ]
     },
     "execution_count": 15,
     "metadata": {},
     "output_type": "execute_result"
    }
   ],
   "source": [
    "import pandas as pd\n",
    "from deepmultilingualpunctuation import PunctuationModel\n",
    "\n",
    "# Initialize the PunctuationModel\n",
    "model = PunctuationModel()\n",
    "\n",
    "# Create an empty list to store dictionaries of results\n",
    "result_list = []\n",
    "\n",
    "# Iterate over each row in the DataFrame\n",
    "for index, row in misinfotranscripts_df.iterrows():\n",
    "    # Access the transcript text in the current row\n",
    "    text = row['transcript']\n",
    "    \n",
    "    # Restore punctuation using the model\n",
    "    result = model.restore_punctuation(text)\n",
    "    \n",
    "    # Append the result to the list\n",
    "    result_list.append({'ID': row['ID'], 'transcript_with_punctuation': result})\n",
    "\n",
    "# Convert the list of dictionaries into a DataFrame\n",
    "result_df = pd.DataFrame(result_list)\n",
    "\n",
    "# Print the new DataFrame\n",
    "result_df"
   ]
  },
  {
   "cell_type": "code",
   "execution_count": 16,
   "metadata": {},
   "outputs": [],
   "source": [
    "result_df.to_csv('misinfo_trans_with_punctuation.csv')"
   ]
  },
  {
   "cell_type": "code",
   "execution_count": 17,
   "metadata": {},
   "outputs": [
    {
     "data": {
      "text/html": [
       "<div>\n",
       "<style scoped>\n",
       "    .dataframe tbody tr th:only-of-type {\n",
       "        vertical-align: middle;\n",
       "    }\n",
       "\n",
       "    .dataframe tbody tr th {\n",
       "        vertical-align: top;\n",
       "    }\n",
       "\n",
       "    .dataframe thead th {\n",
       "        text-align: right;\n",
       "    }\n",
       "</style>\n",
       "<table border=\"1\" class=\"dataframe\">\n",
       "  <thead>\n",
       "    <tr style=\"text-align: right;\">\n",
       "      <th></th>\n",
       "    </tr>\n",
       "  </thead>\n",
       "  <tbody>\n",
       "  </tbody>\n",
       "</table>\n",
       "</div>"
      ],
      "text/plain": [
       "Empty DataFrame\n",
       "Columns: []\n",
       "Index: []"
      ]
     },
     "execution_count": 17,
     "metadata": {},
     "output_type": "execute_result"
    }
   ],
   "source": [
    "# Create an empty list to store dictionaries of results\n",
    "result2_list = []\n",
    "\n",
    "# Iterate over each row in the DataFrame\n",
    "for index, row in infotranscripts_df.iterrows():\n",
    "    # Access the transcript text in the current row\n",
    "    text = row['transcript']\n",
    "    \n",
    "    # Restore punctuation using the model\n",
    "    result = model.restore_punctuation(text)\n",
    "    \n",
    "    # Append the result to the list\n",
    "    result_list.append({'ID': row['ID'], 'transcript_with_punctuation': result})\n",
    "\n",
    "# Convert the list of dictionaries into a DataFrame\n",
    "result2_df = pd.DataFrame(result2_list)\n",
    "\n",
    "# Print the new DataFrame\n",
    "result2_df"
   ]
  },
  {
   "cell_type": "code",
   "execution_count": 18,
   "metadata": {},
   "outputs": [],
   "source": [
    "result2_df.to_csv('info_trans_with_punctuation.csv')"
   ]
  },
  {
   "cell_type": "code",
   "execution_count": null,
   "metadata": {},
   "outputs": [],
   "source": []
  }
 ],
 "metadata": {
  "kernelspec": {
   "display_name": "base",
   "language": "python",
   "name": "python3"
  },
  "language_info": {
   "codemirror_mode": {
    "name": "ipython",
    "version": 3
   },
   "file_extension": ".py",
   "mimetype": "text/x-python",
   "name": "python",
   "nbconvert_exporter": "python",
   "pygments_lexer": "ipython3",
   "version": "3.11.7"
  },
  "orig_nbformat": 4
 },
 "nbformat": 4,
 "nbformat_minor": 2
}
